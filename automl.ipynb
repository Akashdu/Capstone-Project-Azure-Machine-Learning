{
  "cells": [
    {
      "cell_type": "markdown",
      "source": [
        "# Automated ML\n",
        "\n",
        "TODO: Import Dependencies. In the cell below, import all the dependencies that you will need to complete the project."
      ],
      "metadata": {}
    },
    {
      "cell_type": "code",
      "source": [
        "from azureml.core import Experiment, Workspace"
      ],
      "outputs": [],
      "execution_count": 1,
      "metadata": {
        "gather": {
          "logged": 1612125095421
        },
        "jupyter": {
          "outputs_hidden": false,
          "source_hidden": false
        },
        "nteract": {
          "transient": {
            "deleting": false
          }
        }
      }
    },
    {
      "cell_type": "markdown",
      "source": [
        "## Dataset\n",
        "\n",
        "### Overview\n",
        "TODO: In this markdown cell, give an overview of the dataset you are using. Also mention the task you will be performing.\n",
        "\n",
        "\n",
        "TODO: Get data. In the cell below, write code to access the data you will be using in this project. Remember that the dataset needs to be external."
      ],
      "metadata": {}
    },
    {
      "cell_type": "code",
      "source": [
        "ws = Workspace.from_config()\n",
        "\n",
        "# choose a name for experiment\n",
        "experiment_name = 'CapstoneProject'\n",
        "\n",
        "experiment=Experiment(ws, experiment_name)"
      ],
      "outputs": [],
      "execution_count": 2,
      "metadata": {
        "gather": {
          "logged": 1612125098312
        },
        "jupyter": {
          "outputs_hidden": false,
          "source_hidden": false
        },
        "nteract": {
          "transient": {
            "deleting": false
          }
        }
      }
    },
    {
      "cell_type": "markdown",
      "source": [
        "## Creating Compute Cluster"
      ],
      "metadata": {
        "nteract": {
          "transient": {
            "deleting": false
          }
        }
      }
    },
    {
      "cell_type": "code",
      "source": [
        "from azureml.core.compute_target import ComputeTargetException\r\n",
        "from azureml.core.compute import ComputeTarget, AmlCompute\r\n",
        "\r\n",
        "# TODO: Create compute cluster\r\n",
        "# Use vm_size = \"Standard_D2_V2\" in your provisioning configuration.\r\n",
        "# max_nodes should be no greater than 4.\r\n",
        "\r\n",
        "cluster_name = \"computeluster\"\r\n",
        "try:\r\n",
        "    compute_cluster = ComputeTarget(ws, cluster_name)\r\n",
        "    print(\"Found exisitng compute cluster\")\r\n",
        "except ComputeTargetException:\r\n",
        "    print(\"Creating new computer cluster\")\r\n",
        "    compute_config = AmlCompute.provisioning_configuration(vm_size='STANDARD_D2_V2', max_nodes=4)\r\n",
        "\r\n",
        "    compute_cluster = ComputeTarget.create(ws, cluster_name, compute_config)\r\n",
        "    print(\"Created computer cluster\")"
      ],
      "outputs": [
        {
          "output_type": "stream",
          "name": "stdout",
          "text": [
            "Found exisitng compute cluster\n"
          ]
        }
      ],
      "execution_count": 3,
      "metadata": {
        "collapsed": true,
        "jupyter": {
          "source_hidden": false,
          "outputs_hidden": false
        },
        "nteract": {
          "transient": {
            "deleting": false
          }
        },
        "gather": {
          "logged": 1612125104696
        }
      }
    },
    {
      "cell_type": "markdown",
      "source": [
        "## Importing Dataset"
      ],
      "metadata": {
        "nteract": {
          "transient": {
            "deleting": false
          }
        }
      }
    },
    {
      "cell_type": "code",
      "source": [
        "from azureml.data.dataset_factory import TabularDatasetFactory\r\n",
        "\r\n",
        "ds = TabularDatasetFactory.from_delimited_files(path='https://raw.githubusercontent.com/gaganmanku96/Capstone-Project-Azure-Machine-Learning/master/heart_failure_clinical_records_dataset.csv')\r\n",
        "df = ds.to_pandas_dataframe()\r\n",
        "df.head()"
      ],
      "outputs": [
        {
          "output_type": "execute_result",
          "execution_count": 14,
          "data": {
            "text/plain": "    age  anaemia  creatinine_phosphokinase  diabetes  ejection_fraction  \\\n0 75.00        0                       582         0                 20   \n1 55.00        0                      7861         0                 38   \n2 65.00        0                       146         0                 20   \n3 50.00        1                       111         0                 20   \n4 65.00        1                       160         1                 20   \n\n   high_blood_pressure  platelets  serum_creatinine  serum_sodium  sex  \\\n0                    1  265000.00              1.90           130    1   \n1                    0  263358.03              1.10           136    1   \n2                    0  162000.00              1.30           129    1   \n3                    0  210000.00              1.90           137    1   \n4                    0  327000.00              2.70           116    0   \n\n   smoking  time  DEATH_EVENT  \n0        0     4            1  \n1        0     6            1  \n2        1     7            1  \n3        0     7            1  \n4        0     8            1  ",
            "text/html": "<div>\n<style scoped>\n    .dataframe tbody tr th:only-of-type {\n        vertical-align: middle;\n    }\n\n    .dataframe tbody tr th {\n        vertical-align: top;\n    }\n\n    .dataframe thead th {\n        text-align: right;\n    }\n</style>\n<table border=\"1\" class=\"dataframe\">\n  <thead>\n    <tr style=\"text-align: right;\">\n      <th></th>\n      <th>age</th>\n      <th>anaemia</th>\n      <th>creatinine_phosphokinase</th>\n      <th>diabetes</th>\n      <th>ejection_fraction</th>\n      <th>high_blood_pressure</th>\n      <th>platelets</th>\n      <th>serum_creatinine</th>\n      <th>serum_sodium</th>\n      <th>sex</th>\n      <th>smoking</th>\n      <th>time</th>\n      <th>DEATH_EVENT</th>\n    </tr>\n  </thead>\n  <tbody>\n    <tr>\n      <th>0</th>\n      <td>75.00</td>\n      <td>0</td>\n      <td>582</td>\n      <td>0</td>\n      <td>20</td>\n      <td>1</td>\n      <td>265000.00</td>\n      <td>1.90</td>\n      <td>130</td>\n      <td>1</td>\n      <td>0</td>\n      <td>4</td>\n      <td>1</td>\n    </tr>\n    <tr>\n      <th>1</th>\n      <td>55.00</td>\n      <td>0</td>\n      <td>7861</td>\n      <td>0</td>\n      <td>38</td>\n      <td>0</td>\n      <td>263358.03</td>\n      <td>1.10</td>\n      <td>136</td>\n      <td>1</td>\n      <td>0</td>\n      <td>6</td>\n      <td>1</td>\n    </tr>\n    <tr>\n      <th>2</th>\n      <td>65.00</td>\n      <td>0</td>\n      <td>146</td>\n      <td>0</td>\n      <td>20</td>\n      <td>0</td>\n      <td>162000.00</td>\n      <td>1.30</td>\n      <td>129</td>\n      <td>1</td>\n      <td>1</td>\n      <td>7</td>\n      <td>1</td>\n    </tr>\n    <tr>\n      <th>3</th>\n      <td>50.00</td>\n      <td>1</td>\n      <td>111</td>\n      <td>0</td>\n      <td>20</td>\n      <td>0</td>\n      <td>210000.00</td>\n      <td>1.90</td>\n      <td>137</td>\n      <td>1</td>\n      <td>0</td>\n      <td>7</td>\n      <td>1</td>\n    </tr>\n    <tr>\n      <th>4</th>\n      <td>65.00</td>\n      <td>1</td>\n      <td>160</td>\n      <td>1</td>\n      <td>20</td>\n      <td>0</td>\n      <td>327000.00</td>\n      <td>2.70</td>\n      <td>116</td>\n      <td>0</td>\n      <td>0</td>\n      <td>8</td>\n      <td>1</td>\n    </tr>\n  </tbody>\n</table>\n</div>"
          },
          "metadata": {}
        }
      ],
      "execution_count": 14,
      "metadata": {
        "collapsed": true,
        "jupyter": {
          "source_hidden": false,
          "outputs_hidden": false
        },
        "nteract": {
          "transient": {
            "deleting": false
          }
        },
        "gather": {
          "logged": 1612118878643
        }
      }
    },
    {
      "cell_type": "markdown",
      "source": [
        "## AutoML Configuration\n",
        "\n",
        "TODO: Explain why you chose the automl settings and cofiguration you used below."
      ],
      "metadata": {}
    },
    {
      "cell_type": "code",
      "source": [
        "from azureml.train.automl import AutoMLConfig\n",
        "\n",
        "# TODO: Put your automl settings here\n",
        "automl_settings = {\n",
        "    \"n_cross_validations\": 3,\n",
        "    \"primary_metric\": 'accuracy',\n",
        "    \"enable_early_stopping\": True,\n",
        "    \"experiment_timeout_hours\": 0.3,\n",
        "    \"max_concurrent_iterations\": 4,\n",
        "    \"max_cores_per_iteration\": -1,\n",
        "    \"verbosity\": logging.INFO\n",
        "}\n",
        "\n",
        "# TODO: Put your automl config here\n",
        "automl_config = AutoMLConfig(\n",
        "    experiment_timeout_minutes=30,\n",
        "    task='classification',\n",
        "    training_data=df,\n",
        "    label_column_name='DEATH_EVENT',\n",
        "    **automl_settings\n",
        "    )"
      ],
      "outputs": [],
      "execution_count": 15,
      "metadata": {
        "gather": {
          "logged": 1612118950877
        },
        "jupyter": {
          "outputs_hidden": false,
          "source_hidden": false
        },
        "nteract": {
          "transient": {
            "deleting": false
          }
        }
      }
    },
    {
      "cell_type": "code",
      "source": [
        "# TODO: Submit your experiment\n",
        "remote_run = experiment.submit(automl_config)"
      ],
      "outputs": [
        {
          "output_type": "stream",
          "name": "stderr",
          "text": [
            "WARNING:root:Running on local machine. Note that local runs always run synchronously even if you use the parameter 'show_output=False'\n"
          ]
        }
      ],
      "execution_count": 16,
      "metadata": {
        "gather": {
          "logged": 1612120156650
        },
        "jupyter": {
          "outputs_hidden": false,
          "source_hidden": false
        },
        "nteract": {
          "transient": {
            "deleting": false
          }
        }
      }
    },
    {
      "cell_type": "markdown",
      "source": [
        "## Run Details\n",
        "\n",
        "OPTIONAL: Write about the different models trained and their performance. Why do you think some models did better than others?\n",
        "\n",
        "TODO: In the cell below, use the `RunDetails` widget to show the different experiments."
      ],
      "metadata": {}
    },
    {
      "cell_type": "code",
      "source": [
        "from azureml.widgets import RunDetails\r\n",
        "\r\n",
        "RunDetails(remote_run).show()"
      ],
      "outputs": [
        {
          "output_type": "display_data",
          "data": {
            "text/plain": "_AutoMLWidget(widget_settings={'childWidgetDisplay': 'popup', 'send_telemetry': False, 'log_level': 'INFO', 's…",
            "application/vnd.jupyter.widget-view+json": {
              "version_major": 2,
              "version_minor": 0,
              "model_id": "ea582290b14143f7ac1aa3542e8b2d15"
            }
          },
          "metadata": {}
        },
        {
          "output_type": "display_data",
          "data": {
            "application/aml.mini.widget.v1": "{\"status\": \"Completed\", \"workbench_run_details_uri\": \"https://ml.azure.com/experiments/CapstoneProject/runs/AutoML_71e10d2f-fa78-46af-b279-7f3c4f9555f6?wsid=/subscriptions/510b94ba-e453-4417-988b-fbdc37b55ca7/resourcegroups/aml-quickstarts-136765/workspaces/quick-starts-ws-136765\", \"run_id\": \"AutoML_71e10d2f-fa78-46af-b279-7f3c4f9555f6\", \"run_properties\": {\"run_id\": \"AutoML_71e10d2f-fa78-46af-b279-7f3c4f9555f6\", \"created_utc\": \"2021-01-31T18:49:14.919522Z\", \"properties\": {\"num_iterations\": \"1000\", \"training_type\": \"TrainFull\", \"acquisition_function\": \"EI\", \"primary_metric\": \"accuracy\", \"train_split\": \"0\", \"acquisition_parameter\": \"0\", \"num_cross_validation\": \"3\", \"target\": \"local\", \"AMLSettingsJsonString\": \"{\\\"path\\\":null,\\\"name\\\":\\\"CapstoneProject\\\",\\\"subscription_id\\\":\\\"510b94ba-e453-4417-988b-fbdc37b55ca7\\\",\\\"resource_group\\\":\\\"aml-quickstarts-136765\\\",\\\"workspace_name\\\":\\\"quick-starts-ws-136765\\\",\\\"region\\\":\\\"southcentralus\\\",\\\"compute_target\\\":\\\"local\\\",\\\"spark_service\\\":null,\\\"azure_service\\\":\\\"Microsoft.AzureNotebookVM\\\",\\\"many_models\\\":false,\\\"pipeline_fetch_max_batch_size\\\":1,\\\"iterations\\\":1000,\\\"primary_metric\\\":\\\"accuracy\\\",\\\"task_type\\\":\\\"classification\\\",\\\"data_script\\\":null,\\\"validation_size\\\":0.0,\\\"n_cross_validations\\\":3,\\\"y_min\\\":null,\\\"y_max\\\":null,\\\"num_classes\\\":2,\\\"featurization\\\":\\\"auto\\\",\\\"_ignore_package_version_incompatibilities\\\":false,\\\"is_timeseries\\\":false,\\\"max_cores_per_iteration\\\":-1,\\\"max_concurrent_iterations\\\":4,\\\"iteration_timeout_minutes\\\":null,\\\"mem_in_mb\\\":null,\\\"enforce_time_on_windows\\\":false,\\\"experiment_timeout_minutes\\\":30,\\\"experiment_exit_score\\\":null,\\\"whitelist_models\\\":null,\\\"blacklist_algos\\\":[\\\"TensorFlowLinearClassifier\\\",\\\"TensorFlowDNN\\\"],\\\"supported_models\\\":[\\\"DecisionTree\\\",\\\"XGBoostClassifier\\\",\\\"MultinomialNaiveBayes\\\",\\\"LinearSVM\\\",\\\"KNN\\\",\\\"RandomForest\\\",\\\"TensorFlowDNN\\\",\\\"TensorFlowLinearClassifier\\\",\\\"ExtremeRandomTrees\\\",\\\"SGD\\\",\\\"LightGBM\\\",\\\"AveragedPerceptronClassifier\\\",\\\"SVM\\\",\\\"GradientBoosting\\\",\\\"BernoulliNaiveBayes\\\",\\\"LogisticRegression\\\"],\\\"auto_blacklist\\\":true,\\\"blacklist_samples_reached\\\":false,\\\"exclude_nan_labels\\\":true,\\\"verbosity\\\":20,\\\"_debug_log\\\":\\\"automl.log\\\",\\\"show_warnings\\\":false,\\\"model_explainability\\\":true,\\\"service_url\\\":null,\\\"sdk_url\\\":null,\\\"sdk_packages\\\":null,\\\"enable_onnx_compatible_models\\\":false,\\\"enable_split_onnx_featurizer_estimator_models\\\":false,\\\"vm_type\\\":null,\\\"telemetry_verbosity\\\":20,\\\"send_telemetry\\\":true,\\\"enable_dnn\\\":false,\\\"scenario\\\":\\\"SDK-1.13.0\\\",\\\"environment_label\\\":null,\\\"force_text_dnn\\\":false,\\\"enable_feature_sweeping\\\":true,\\\"enable_early_stopping\\\":true,\\\"early_stopping_n_iters\\\":10,\\\"metrics\\\":null,\\\"enable_ensembling\\\":true,\\\"enable_stack_ensembling\\\":true,\\\"ensemble_iterations\\\":15,\\\"enable_tf\\\":false,\\\"enable_subsampling\\\":null,\\\"subsample_seed\\\":null,\\\"enable_nimbusml\\\":false,\\\"enable_streaming\\\":false,\\\"force_streaming\\\":false,\\\"track_child_runs\\\":true,\\\"allowed_private_models\\\":[],\\\"label_column_name\\\":\\\"DEATH_EVENT\\\",\\\"weight_column_name\\\":null,\\\"cv_split_column_names\\\":null,\\\"enable_local_managed\\\":false,\\\"_local_managed_run_id\\\":null,\\\"cost_mode\\\":1,\\\"lag_length\\\":0,\\\"metric_operation\\\":\\\"maximize\\\",\\\"preprocess\\\":true}\", \"DataPrepJsonString\": null, \"EnableSubsampling\": null, \"runTemplate\": \"AutoML\", \"azureml.runsource\": \"automl\", \"display_task_type\": \"classification\", \"dependencies_versions\": \"{\\\"azureml-widgets\\\": \\\"1.20.0\\\", \\\"azureml-train\\\": \\\"1.20.0\\\", \\\"azureml-train-restclients-hyperdrive\\\": \\\"1.20.0\\\", \\\"azureml-train-core\\\": \\\"1.20.0\\\", \\\"azureml-train-automl\\\": \\\"1.20.0\\\", \\\"azureml-train-automl-runtime\\\": \\\"1.20.0\\\", \\\"azureml-train-automl-client\\\": \\\"1.20.0\\\", \\\"azureml-tensorboard\\\": \\\"1.20.0\\\", \\\"azureml-telemetry\\\": \\\"1.20.0\\\", \\\"azureml-sdk\\\": \\\"1.20.0\\\", \\\"azureml-samples\\\": \\\"0+unknown\\\", \\\"azureml-pipeline\\\": \\\"1.20.0\\\", \\\"azureml-pipeline-steps\\\": \\\"1.20.0\\\", \\\"azureml-pipeline-core\\\": \\\"1.20.0\\\", \\\"azureml-opendatasets\\\": \\\"1.20.0\\\", \\\"azureml-model-management-sdk\\\": \\\"1.0.1b6.post1\\\", \\\"azureml-mlflow\\\": \\\"1.20.0.post1\\\", \\\"azureml-interpret\\\": \\\"1.20.0\\\", \\\"azureml-explain-model\\\": \\\"1.20.0\\\", \\\"azureml-defaults\\\": \\\"1.20.0\\\", \\\"azureml-dataset-runtime\\\": \\\"1.20.0\\\", \\\"azureml-dataprep\\\": \\\"2.7.3\\\", \\\"azureml-dataprep-rslex\\\": \\\"1.5.0\\\", \\\"azureml-dataprep-native\\\": \\\"27.0.0\\\", \\\"azureml-datadrift\\\": \\\"1.20.0\\\", \\\"azureml-core\\\": \\\"1.20.0\\\", \\\"azureml-contrib-services\\\": \\\"1.20.0\\\", \\\"azureml-contrib-server\\\": \\\"1.20.0\\\", \\\"azureml-contrib-reinforcementlearning\\\": \\\"1.20.0\\\", \\\"azureml-contrib-pipeline-steps\\\": \\\"1.20.0\\\", \\\"azureml-contrib-notebook\\\": \\\"1.20.0\\\", \\\"azureml-contrib-interpret\\\": \\\"1.20.0\\\", \\\"azureml-contrib-gbdt\\\": \\\"1.20.0\\\", \\\"azureml-contrib-fairness\\\": \\\"1.20.0\\\", \\\"azureml-contrib-dataset\\\": \\\"1.20.0\\\", \\\"azureml-cli-common\\\": \\\"1.20.0\\\", \\\"azureml-automl-runtime\\\": \\\"1.20.0\\\", \\\"azureml-automl-core\\\": \\\"1.20.0\\\", \\\"azureml-accel-models\\\": \\\"1.20.0\\\"}\", \"_aml_system_scenario_identification\": \"Local.Parent\", \"ClientSdkVersion\": \"1.20.0\", \"ClientType\": \"SDK\", \"environment_cpu_name\": \"AzureML-AutoML\", \"environment_cpu_label\": \"prod\", \"environment_gpu_name\": \"AzureML-AutoML-GPU\", \"environment_gpu_label\": \"prod\", \"root_attribution\": \"automl\", \"attribution\": \"AutoML\", \"Orchestrator\": \"AutoML\", \"_azureml.ComputeTargetType\": \"local\", \"ProblemInfoJsonString\": \"{\\\"dataset_num_categorical\\\": 0, \\\"is_sparse\\\": false, \\\"subsampling\\\": false, \\\"dataset_classes\\\": 2, \\\"dataset_features\\\": 12, \\\"dataset_samples\\\": 299, \\\"single_frequency_class_detected\\\": false}\", \"feature_skus\": \"automatedml_sdk_guardrails\"}, \"tags\": {\"model_explain_run\": \"best_run\", \"best_score\": \"0.8594949494949495\", \"best_pipeline\": \"VotingEnsemble\", \"automl_best_child_run_id\": \"AutoML_71e10d2f-fa78-46af-b279-7f3c4f9555f6_33\", \"model_explain_best_run_child_id\": \"AutoML_71e10d2f-fa78-46af-b279-7f3c4f9555f6_33\"}, \"end_time_utc\": \"2021-01-31T19:07:10.994162Z\", \"status\": \"Completed\", \"log_files\": {}, \"log_groups\": [], \"run_duration\": \"0:17:56\"}, \"child_runs\": [{\"run_id\": \"AutoML_71e10d2f-fa78-46af-b279-7f3c4f9555f6_0\", \"run_number\": 2, \"metric\": null, \"status\": \"Completed\", \"run_type\": null, \"training_percent\": \"100\", \"start_time\": \"2021-01-31T18:49:28.594546Z\", \"end_time\": \"2021-01-31T18:49:56.31569Z\", \"created_time\": \"2021-01-31T18:49:28.51022Z\", \"created_time_dt\": \"2021-01-31T18:49:28.51022Z\", \"duration\": \"0:00:27\", \"iteration\": \"0\", \"goal\": \"accuracy_max\", \"run_name\": \"MaxAbsScaler, LightGBM\", \"run_properties\": \"copy=True\", \"primary_metric\": 0.80252525, \"best_metric\": 0.80252525}, {\"run_id\": \"AutoML_71e10d2f-fa78-46af-b279-7f3c4f9555f6_1\", \"run_number\": 3, \"metric\": null, \"status\": \"Completed\", \"run_type\": null, \"training_percent\": \"100\", \"start_time\": \"2021-01-31T18:49:56.594596Z\", \"end_time\": \"2021-01-31T18:50:22.534696Z\", \"created_time\": \"2021-01-31T18:49:56.510382Z\", \"created_time_dt\": \"2021-01-31T18:49:56.510382Z\", \"duration\": \"0:00:26\", \"iteration\": \"1\", \"goal\": \"accuracy_max\", \"run_name\": \"MaxAbsScaler, XGBoostClassifier\", \"run_properties\": \"copy=True\", \"primary_metric\": 0.81929293, \"best_metric\": 0.81929293}, {\"run_id\": \"AutoML_71e10d2f-fa78-46af-b279-7f3c4f9555f6_2\", \"run_number\": 4, \"metric\": null, \"status\": \"Completed\", \"run_type\": null, \"training_percent\": \"100\", \"start_time\": \"2021-01-31T18:50:23.188298Z\", \"end_time\": \"2021-01-31T18:50:50.172475Z\", \"created_time\": \"2021-01-31T18:50:23.106403Z\", \"created_time_dt\": \"2021-01-31T18:50:23.106403Z\", \"duration\": \"0:00:27\", \"iteration\": \"2\", \"goal\": \"accuracy_max\", \"run_name\": \"MinMaxScaler, RandomForest\", \"run_properties\": \"copy=True, feature_range=(0, 1\", \"primary_metric\": 0.83276094, \"best_metric\": 0.83276094}, {\"run_id\": \"AutoML_71e10d2f-fa78-46af-b279-7f3c4f9555f6_3\", \"run_number\": 5, \"metric\": null, \"status\": \"Completed\", \"run_type\": null, \"training_percent\": \"100\", \"start_time\": \"2021-01-31T18:50:51.534111Z\", \"end_time\": \"2021-01-31T18:51:18.333621Z\", \"created_time\": \"2021-01-31T18:50:51.439322Z\", \"created_time_dt\": \"2021-01-31T18:50:51.439322Z\", \"duration\": \"0:00:26\", \"iteration\": \"3\", \"goal\": \"accuracy_max\", \"run_name\": \"MinMaxScaler, RandomForest\", \"run_properties\": \"copy=True, feature_range=(0, 1\", \"primary_metric\": 0.8126936, \"best_metric\": 0.83276094}, {\"run_id\": \"AutoML_71e10d2f-fa78-46af-b279-7f3c4f9555f6_4\", \"run_number\": 6, \"metric\": null, \"status\": \"Completed\", \"run_type\": null, \"training_percent\": \"100\", \"start_time\": \"2021-01-31T18:51:19.826318Z\", \"end_time\": \"2021-01-31T18:51:52.030231Z\", \"created_time\": \"2021-01-31T18:51:19.733515Z\", \"created_time_dt\": \"2021-01-31T18:51:19.733515Z\", \"duration\": \"0:00:32\", \"iteration\": \"4\", \"goal\": \"accuracy_max\", \"run_name\": \"MinMaxScaler, RandomForest\", \"run_properties\": \"copy=True, feature_range=(0, 1\", \"primary_metric\": 0.84606061, \"best_metric\": 0.84606061}, {\"run_id\": \"AutoML_71e10d2f-fa78-46af-b279-7f3c4f9555f6_5\", \"run_number\": 7, \"metric\": null, \"status\": \"Completed\", \"run_type\": null, \"training_percent\": \"100\", \"start_time\": \"2021-01-31T18:51:53.30862Z\", \"end_time\": \"2021-01-31T18:52:19.386201Z\", \"created_time\": \"2021-01-31T18:51:53.196349Z\", \"created_time_dt\": \"2021-01-31T18:51:53.196349Z\", \"duration\": \"0:00:26\", \"iteration\": \"5\", \"goal\": \"accuracy_max\", \"run_name\": \"MinMaxScaler, SVM\", \"run_properties\": \"copy=True, feature_range=(0, 1\", \"primary_metric\": 0.71565657, \"best_metric\": 0.84606061}, {\"run_id\": \"AutoML_71e10d2f-fa78-46af-b279-7f3c4f9555f6_6\", \"run_number\": 8, \"metric\": null, \"status\": \"Completed\", \"run_type\": null, \"training_percent\": \"100\", \"start_time\": \"2021-01-31T18:52:20.65368Z\", \"end_time\": \"2021-01-31T18:52:46.893189Z\", \"created_time\": \"2021-01-31T18:52:20.567153Z\", \"created_time_dt\": \"2021-01-31T18:52:20.567153Z\", \"duration\": \"0:00:26\", \"iteration\": \"6\", \"goal\": \"accuracy_max\", \"run_name\": \"MaxAbsScaler, GradientBoosting\", \"run_properties\": \"copy=True\", \"primary_metric\": 0.82936027, \"best_metric\": 0.84606061}, {\"run_id\": \"AutoML_71e10d2f-fa78-46af-b279-7f3c4f9555f6_7\", \"run_number\": 9, \"metric\": null, \"status\": \"Completed\", \"run_type\": null, \"training_percent\": \"100\", \"start_time\": \"2021-01-31T18:52:48.251998Z\", \"end_time\": \"2021-01-31T18:53:15.258983Z\", \"created_time\": \"2021-01-31T18:52:48.138266Z\", \"created_time_dt\": \"2021-01-31T18:52:48.138266Z\", \"duration\": \"0:00:27\", \"iteration\": \"7\", \"goal\": \"accuracy_max\", \"run_name\": \"StandardScalerWrapper, RandomForest\", \"run_properties\": \"<azureml.automl.runtime.shared.model_wrappers.StandardScalerWrapper object at 0x7f682f6d34e0\", \"primary_metric\": 0.82265993, \"best_metric\": 0.84606061}, {\"run_id\": \"AutoML_71e10d2f-fa78-46af-b279-7f3c4f9555f6_8\", \"run_number\": 10, \"metric\": null, \"status\": \"Completed\", \"run_type\": null, \"training_percent\": \"100\", \"start_time\": \"2021-01-31T18:53:16.332785Z\", \"end_time\": \"2021-01-31T18:53:42.458905Z\", \"created_time\": \"2021-01-31T18:53:16.240681Z\", \"created_time_dt\": \"2021-01-31T18:53:16.240681Z\", \"duration\": \"0:00:26\", \"iteration\": \"8\", \"goal\": \"accuracy_max\", \"run_name\": \"SparseNormalizer, XGBoostClassifier\", \"run_properties\": \"<azureml.automl.runtime.shared.model_wrappers.SparseNormalizer object at 0x7f695f219da0\", \"primary_metric\": 0.82939394, \"best_metric\": 0.84606061}, {\"run_id\": \"AutoML_71e10d2f-fa78-46af-b279-7f3c4f9555f6_9\", \"run_number\": 11, \"metric\": null, \"status\": \"Completed\", \"run_type\": null, \"training_percent\": \"100\", \"start_time\": \"2021-01-31T18:53:43.70649Z\", \"end_time\": \"2021-01-31T18:54:16.374042Z\", \"created_time\": \"2021-01-31T18:53:43.61496Z\", \"created_time_dt\": \"2021-01-31T18:53:43.61496Z\", \"duration\": \"0:00:32\", \"iteration\": \"9\", \"goal\": \"accuracy_max\", \"run_name\": \"SparseNormalizer, LightGBM\", \"run_properties\": \"<azureml.automl.runtime.shared.model_wrappers.SparseNormalizer object at 0x7f695f1a3ba8\", \"primary_metric\": 0.81599327, \"best_metric\": 0.84606061}, {\"run_id\": \"AutoML_71e10d2f-fa78-46af-b279-7f3c4f9555f6_10\", \"run_number\": 12, \"metric\": null, \"status\": \"Completed\", \"run_type\": null, \"training_percent\": \"100\", \"start_time\": \"2021-01-31T18:54:17.961419Z\", \"end_time\": \"2021-01-31T18:54:45.30957Z\", \"created_time\": \"2021-01-31T18:54:17.863272Z\", \"created_time_dt\": \"2021-01-31T18:54:17.863272Z\", \"duration\": \"0:00:27\", \"iteration\": \"10\", \"goal\": \"accuracy_max\", \"run_name\": \"RobustScaler, RandomForest\", \"run_properties\": \"copy=True, quantile_range=[10, 90], with_centering=True,\\n             with_scaling=True\", \"primary_metric\": 0.83265993, \"best_metric\": 0.84606061}, {\"run_id\": \"AutoML_71e10d2f-fa78-46af-b279-7f3c4f9555f6_11\", \"run_number\": 13, \"metric\": null, \"status\": \"Completed\", \"run_type\": null, \"training_percent\": \"100\", \"start_time\": \"2021-01-31T18:54:46.438511Z\", \"end_time\": \"2021-01-31T18:55:12.177484Z\", \"created_time\": \"2021-01-31T18:54:46.347616Z\", \"created_time_dt\": \"2021-01-31T18:54:46.347616Z\", \"duration\": \"0:00:25\", \"iteration\": \"11\", \"goal\": \"accuracy_max\", \"run_name\": \"MaxAbsScaler, LightGBM\", \"run_properties\": \"copy=True\", \"primary_metric\": 0.82602694, \"best_metric\": 0.84606061}, {\"run_id\": \"AutoML_71e10d2f-fa78-46af-b279-7f3c4f9555f6_12\", \"run_number\": 14, \"metric\": null, \"status\": \"Completed\", \"run_type\": null, \"training_percent\": \"100\", \"start_time\": \"2021-01-31T18:55:13.348311Z\", \"end_time\": \"2021-01-31T18:55:40.083599Z\", \"created_time\": \"2021-01-31T18:55:13.253869Z\", \"created_time_dt\": \"2021-01-31T18:55:13.253869Z\", \"duration\": \"0:00:26\", \"iteration\": \"12\", \"goal\": \"accuracy_max\", \"run_name\": \"SparseNormalizer, XGBoostClassifier\", \"run_properties\": \"<azureml.automl.runtime.shared.model_wrappers.SparseNormalizer object at 0x7f695f1078d0\", \"primary_metric\": 0.80265993, \"best_metric\": 0.84606061}, {\"run_id\": \"AutoML_71e10d2f-fa78-46af-b279-7f3c4f9555f6_13\", \"run_number\": 15, \"metric\": null, \"status\": \"Completed\", \"run_type\": null, \"training_percent\": \"100\", \"start_time\": \"2021-01-31T18:55:41.291283Z\", \"end_time\": \"2021-01-31T18:56:08.718262Z\", \"created_time\": \"2021-01-31T18:55:41.200564Z\", \"created_time_dt\": \"2021-01-31T18:55:41.200564Z\", \"duration\": \"0:00:27\", \"iteration\": \"13\", \"goal\": \"accuracy_max\", \"run_name\": \"RobustScaler, ExtremeRandomTrees\", \"run_properties\": \"copy=True, quantile_range=[25, 75], with_centering=True,\\n             with_scaling=False\", \"primary_metric\": 0.84612795, \"best_metric\": 0.84612795}, {\"run_id\": \"AutoML_71e10d2f-fa78-46af-b279-7f3c4f9555f6_14\", \"run_number\": 16, \"metric\": null, \"status\": \"Completed\", \"run_type\": null, \"training_percent\": \"100\", \"start_time\": \"2021-01-31T18:56:09.774637Z\", \"end_time\": \"2021-01-31T18:56:37.076232Z\", \"created_time\": \"2021-01-31T18:56:09.690204Z\", \"created_time_dt\": \"2021-01-31T18:56:09.690204Z\", \"duration\": \"0:00:27\", \"iteration\": \"14\", \"goal\": \"accuracy_max\", \"run_name\": \"StandardScalerWrapper, ExtremeRandomTrees\", \"run_properties\": \"<azureml.automl.runtime.shared.model_wrappers.StandardScalerWrapper object at 0x7f695f12fc18\", \"primary_metric\": 0.82606061, \"best_metric\": 0.84612795}, {\"run_id\": \"AutoML_71e10d2f-fa78-46af-b279-7f3c4f9555f6_15\", \"run_number\": 17, \"metric\": null, \"status\": \"Completed\", \"run_type\": null, \"training_percent\": \"100\", \"start_time\": \"2021-01-31T18:56:38.700069Z\", \"end_time\": \"2021-01-31T18:57:10.324358Z\", \"created_time\": \"2021-01-31T18:56:38.617661Z\", \"created_time_dt\": \"2021-01-31T18:56:38.617661Z\", \"duration\": \"0:00:31\", \"iteration\": \"15\", \"goal\": \"accuracy_max\", \"run_name\": \"StandardScalerWrapper, XGBoostClassifier\", \"run_properties\": \"<azureml.automl.runtime.shared.model_wrappers.StandardScalerWrapper object at 0x7f695f106eb8\", \"primary_metric\": 0.80249158, \"best_metric\": 0.84612795}, {\"run_id\": \"AutoML_71e10d2f-fa78-46af-b279-7f3c4f9555f6_16\", \"run_number\": 18, \"metric\": null, \"status\": \"Completed\", \"run_type\": null, \"training_percent\": \"100\", \"start_time\": \"2021-01-31T18:57:11.50858Z\", \"end_time\": \"2021-01-31T18:57:37.935975Z\", \"created_time\": \"2021-01-31T18:57:11.410689Z\", \"created_time_dt\": \"2021-01-31T18:57:11.410689Z\", \"duration\": \"0:00:26\", \"iteration\": \"16\", \"goal\": \"accuracy_max\", \"run_name\": \"StandardScalerWrapper, GradientBoosting\", \"run_properties\": \"<azureml.automl.runtime.shared.model_wrappers.StandardScalerWrapper object at 0x7f695f0693c8\", \"primary_metric\": 0.82602694, \"best_metric\": 0.84612795}, {\"run_id\": \"AutoML_71e10d2f-fa78-46af-b279-7f3c4f9555f6_17\", \"run_number\": 19, \"metric\": null, \"status\": \"Completed\", \"run_type\": null, \"training_percent\": \"100\", \"start_time\": \"2021-01-31T18:57:39.137273Z\", \"end_time\": \"2021-01-31T18:58:10.927701Z\", \"created_time\": \"2021-01-31T18:57:39.032243Z\", \"created_time_dt\": \"2021-01-31T18:57:39.032243Z\", \"duration\": \"0:00:31\", \"iteration\": \"17\", \"goal\": \"accuracy_max\", \"run_name\": \"StandardScalerWrapper, ExtremeRandomTrees\", \"run_properties\": \"<azureml.automl.runtime.shared.model_wrappers.StandardScalerWrapper object at 0x7f695f1d5780\", \"primary_metric\": 0.72579125, \"best_metric\": 0.84612795}, {\"run_id\": \"AutoML_71e10d2f-fa78-46af-b279-7f3c4f9555f6_18\", \"run_number\": 20, \"metric\": null, \"status\": \"Completed\", \"run_type\": null, \"training_percent\": \"100\", \"start_time\": \"2021-01-31T18:58:12.163173Z\", \"end_time\": \"2021-01-31T18:58:38.329391Z\", \"created_time\": \"2021-01-31T18:58:12.053268Z\", \"created_time_dt\": \"2021-01-31T18:58:12.053268Z\", \"duration\": \"0:00:26\", \"iteration\": \"18\", \"goal\": \"accuracy_max\", \"run_name\": \"SparseNormalizer, XGBoostClassifier\", \"run_properties\": \"<azureml.automl.runtime.shared.model_wrappers.SparseNormalizer object at 0x7f695f04ba58\", \"primary_metric\": 0.82612795, \"best_metric\": 0.84612795}, {\"run_id\": \"AutoML_71e10d2f-fa78-46af-b279-7f3c4f9555f6_19\", \"run_number\": 21, \"metric\": null, \"status\": \"Completed\", \"run_type\": null, \"training_percent\": \"100\", \"start_time\": \"2021-01-31T18:58:39.628352Z\", \"end_time\": \"2021-01-31T18:59:06.84181Z\", \"created_time\": \"2021-01-31T18:58:39.504682Z\", \"created_time_dt\": \"2021-01-31T18:58:39.504682Z\", \"duration\": \"0:00:27\", \"iteration\": \"19\", \"goal\": \"accuracy_max\", \"run_name\": \"StandardScalerWrapper, LightGBM\", \"run_properties\": \"<azureml.automl.runtime.shared.model_wrappers.StandardScalerWrapper object at 0x7f695ef7f198\", \"primary_metric\": 0.80592593, \"best_metric\": 0.84612795}, {\"run_id\": \"AutoML_71e10d2f-fa78-46af-b279-7f3c4f9555f6_20\", \"run_number\": 22, \"metric\": null, \"status\": \"Completed\", \"run_type\": null, \"training_percent\": \"100\", \"start_time\": \"2021-01-31T18:59:07.853732Z\", \"end_time\": \"2021-01-31T18:59:39.702384Z\", \"created_time\": \"2021-01-31T18:59:07.760726Z\", \"created_time_dt\": \"2021-01-31T18:59:07.760726Z\", \"duration\": \"0:00:31\", \"iteration\": \"20\", \"goal\": \"accuracy_max\", \"run_name\": \"RobustScaler, KNN\", \"run_properties\": \"copy=True, quantile_range=[25, 75], with_centering=True,\\n             with_scaling=False\", \"primary_metric\": 0.60531987, \"best_metric\": 0.84612795}, {\"run_id\": \"AutoML_71e10d2f-fa78-46af-b279-7f3c4f9555f6_21\", \"run_number\": 23, \"metric\": null, \"status\": \"Completed\", \"run_type\": null, \"training_percent\": \"100\", \"start_time\": \"2021-01-31T18:59:41.025348Z\", \"end_time\": \"2021-01-31T19:00:07.601352Z\", \"created_time\": \"2021-01-31T18:59:40.935699Z\", \"created_time_dt\": \"2021-01-31T18:59:40.935699Z\", \"duration\": \"0:00:26\", \"iteration\": \"21\", \"goal\": \"accuracy_max\", \"run_name\": \"SparseNormalizer, LightGBM\", \"run_properties\": \"<azureml.automl.runtime.shared.model_wrappers.SparseNormalizer object at 0x7f695ef6e518\", \"primary_metric\": 0.81272727, \"best_metric\": 0.84612795}, {\"run_id\": \"AutoML_71e10d2f-fa78-46af-b279-7f3c4f9555f6_22\", \"run_number\": 24, \"metric\": null, \"status\": \"Completed\", \"run_type\": null, \"training_percent\": \"100\", \"start_time\": \"2021-01-31T19:00:08.794252Z\", \"end_time\": \"2021-01-31T19:00:37.147214Z\", \"created_time\": \"2021-01-31T19:00:08.708648Z\", \"created_time_dt\": \"2021-01-31T19:00:08.708648Z\", \"duration\": \"0:00:28\", \"iteration\": \"22\", \"goal\": \"accuracy_max\", \"run_name\": \"StandardScalerWrapper, RandomForest\", \"run_properties\": \"<azureml.automl.runtime.shared.model_wrappers.StandardScalerWrapper object at 0x7f695eef8da0\", \"primary_metric\": 0.8326936, \"best_metric\": 0.84612795}, {\"run_id\": \"AutoML_71e10d2f-fa78-46af-b279-7f3c4f9555f6_23\", \"run_number\": 25, \"metric\": null, \"status\": \"Completed\", \"run_type\": null, \"training_percent\": \"100\", \"start_time\": \"2021-01-31T19:00:38.4504Z\", \"end_time\": \"2021-01-31T19:01:05.991092Z\", \"created_time\": \"2021-01-31T19:00:38.352642Z\", \"created_time_dt\": \"2021-01-31T19:00:38.352642Z\", \"duration\": \"0:00:27\", \"iteration\": \"23\", \"goal\": \"accuracy_max\", \"run_name\": \"StandardScalerWrapper, LightGBM\", \"run_properties\": \"<azureml.automl.runtime.shared.model_wrappers.StandardScalerWrapper object at 0x7f695f04be10\", \"primary_metric\": 0.81602694, \"best_metric\": 0.84612795}, {\"run_id\": \"AutoML_71e10d2f-fa78-46af-b279-7f3c4f9555f6_24\", \"run_number\": 26, \"metric\": null, \"status\": \"Completed\", \"run_type\": null, \"training_percent\": \"100\", \"start_time\": \"2021-01-31T19:01:07.368741Z\", \"end_time\": \"2021-01-31T19:01:40.194907Z\", \"created_time\": \"2021-01-31T19:01:07.231333Z\", \"created_time_dt\": \"2021-01-31T19:01:07.231333Z\", \"duration\": \"0:00:32\", \"iteration\": \"24\", \"goal\": \"accuracy_max\", \"run_name\": \"MinMaxScaler, LightGBM\", \"run_properties\": \"copy=True, feature_range=(0, 1\", \"primary_metric\": 0.79249158, \"best_metric\": 0.84612795}, {\"run_id\": \"AutoML_71e10d2f-fa78-46af-b279-7f3c4f9555f6_25\", \"run_number\": 27, \"metric\": null, \"status\": \"Completed\", \"run_type\": null, \"training_percent\": \"100\", \"start_time\": \"2021-01-31T19:01:42.567221Z\", \"end_time\": \"2021-01-31T19:02:10.341017Z\", \"created_time\": \"2021-01-31T19:01:42.264479Z\", \"created_time_dt\": \"2021-01-31T19:01:42.264479Z\", \"duration\": \"0:00:28\", \"iteration\": \"25\", \"goal\": \"accuracy_max\", \"run_name\": \"StandardScalerWrapper, ExtremeRandomTrees\", \"run_properties\": \"<azureml.automl.runtime.shared.model_wrappers.StandardScalerWrapper object at 0x7f695f07ceb8\", \"primary_metric\": 0.59552189, \"best_metric\": 0.84612795}, {\"run_id\": \"AutoML_71e10d2f-fa78-46af-b279-7f3c4f9555f6_26\", \"run_number\": 28, \"metric\": null, \"status\": \"Completed\", \"run_type\": null, \"training_percent\": \"100\", \"start_time\": \"2021-01-31T19:02:11.642999Z\", \"end_time\": \"2021-01-31T19:02:44.232242Z\", \"created_time\": \"2021-01-31T19:02:11.541723Z\", \"created_time_dt\": \"2021-01-31T19:02:11.541723Z\", \"duration\": \"0:00:32\", \"iteration\": \"26\", \"goal\": \"accuracy_max\", \"run_name\": \"MaxAbsScaler, ExtremeRandomTrees\", \"run_properties\": \"copy=True\", \"primary_metric\": 0.81942761, \"best_metric\": 0.84612795}, {\"run_id\": \"AutoML_71e10d2f-fa78-46af-b279-7f3c4f9555f6_27\", \"run_number\": 29, \"metric\": null, \"status\": \"Completed\", \"run_type\": null, \"training_percent\": \"100\", \"start_time\": \"2021-01-31T19:02:45.541495Z\", \"end_time\": \"2021-01-31T19:03:14.327793Z\", \"created_time\": \"2021-01-31T19:02:45.440317Z\", \"created_time_dt\": \"2021-01-31T19:02:45.440317Z\", \"duration\": \"0:00:28\", \"iteration\": \"27\", \"goal\": \"accuracy_max\", \"run_name\": \"MaxAbsScaler, LightGBM\", \"run_properties\": \"copy=True\", \"primary_metric\": 0.83946128, \"best_metric\": 0.84612795}, {\"run_id\": \"AutoML_71e10d2f-fa78-46af-b279-7f3c4f9555f6_28\", \"run_number\": 30, \"metric\": null, \"status\": \"Completed\", \"run_type\": null, \"training_percent\": \"100\", \"start_time\": \"2021-01-31T19:03:15.619846Z\", \"end_time\": \"2021-01-31T19:03:49.74598Z\", \"created_time\": \"2021-01-31T19:03:15.523028Z\", \"created_time_dt\": \"2021-01-31T19:03:15.523028Z\", \"duration\": \"0:00:34\", \"iteration\": \"28\", \"goal\": \"accuracy_max\", \"run_name\": \"StandardScalerWrapper, LightGBM\", \"run_properties\": \"<azureml.automl.runtime.shared.model_wrappers.StandardScalerWrapper object at 0x7f695ef0eda0\", \"primary_metric\": 0.8226936, \"best_metric\": 0.84612795}, {\"run_id\": \"AutoML_71e10d2f-fa78-46af-b279-7f3c4f9555f6_29\", \"run_number\": 31, \"metric\": null, \"status\": \"Completed\", \"run_type\": null, \"training_percent\": \"100\", \"start_time\": \"2021-01-31T19:03:50.968665Z\", \"end_time\": \"2021-01-31T19:04:18.778516Z\", \"created_time\": \"2021-01-31T19:03:50.858205Z\", \"created_time_dt\": \"2021-01-31T19:03:50.858205Z\", \"duration\": \"0:00:27\", \"iteration\": \"29\", \"goal\": \"accuracy_max\", \"run_name\": \"MaxAbsScaler, LightGBM\", \"run_properties\": \"copy=True\", \"primary_metric\": 0.80259259, \"best_metric\": 0.84612795}, {\"run_id\": \"AutoML_71e10d2f-fa78-46af-b279-7f3c4f9555f6_30\", \"run_number\": 32, \"metric\": null, \"status\": \"Completed\", \"run_type\": null, \"training_percent\": \"100\", \"start_time\": \"2021-01-31T19:04:21.302479Z\", \"end_time\": \"2021-01-31T19:04:48.94212Z\", \"created_time\": \"2021-01-31T19:04:21.013318Z\", \"created_time_dt\": \"2021-01-31T19:04:21.013318Z\", \"duration\": \"0:00:27\", \"iteration\": \"30\", \"goal\": \"accuracy_max\", \"run_name\": \"StandardScalerWrapper, ExtremeRandomTrees\", \"run_properties\": \"<azureml.automl.runtime.shared.model_wrappers.StandardScalerWrapper object at 0x7f695ede76a0\", \"primary_metric\": 0.67902357, \"best_metric\": 0.84612795}, {\"run_id\": \"AutoML_71e10d2f-fa78-46af-b279-7f3c4f9555f6_31\", \"run_number\": 33, \"metric\": null, \"status\": \"Completed\", \"run_type\": null, \"training_percent\": \"100\", \"start_time\": \"2021-01-31T19:04:51.39781Z\", \"end_time\": \"2021-01-31T19:05:23.095707Z\", \"created_time\": \"2021-01-31T19:04:51.310302Z\", \"created_time_dt\": \"2021-01-31T19:04:51.310302Z\", \"duration\": \"0:00:31\", \"iteration\": \"31\", \"goal\": \"accuracy_max\", \"run_name\": \"MaxAbsScaler, LightGBM\", \"run_properties\": \"copy=True\", \"primary_metric\": 0.82602694, \"best_metric\": 0.84612795}, {\"run_id\": \"AutoML_71e10d2f-fa78-46af-b279-7f3c4f9555f6_32\", \"run_number\": 34, \"metric\": null, \"status\": \"Completed\", \"run_type\": null, \"training_percent\": \"100\", \"start_time\": \"2021-01-31T19:05:24.87906Z\", \"end_time\": \"2021-01-31T19:06:00.045453Z\", \"created_time\": \"2021-01-31T19:05:24.589259Z\", \"created_time_dt\": \"2021-01-31T19:05:24.589259Z\", \"duration\": \"0:00:35\", \"iteration\": \"32\", \"goal\": \"accuracy_max\", \"run_name\": \"MaxAbsScaler, LightGBM\", \"run_properties\": \"copy=True\", \"primary_metric\": 0.83259259, \"best_metric\": 0.84612795}, {\"run_id\": \"AutoML_71e10d2f-fa78-46af-b279-7f3c4f9555f6_33\", \"run_number\": 35, \"metric\": null, \"status\": \"Completed\", \"run_type\": null, \"training_percent\": \"100\", \"start_time\": \"2021-01-31T19:06:00.344055Z\", \"end_time\": \"2021-01-31T19:06:36.189474Z\", \"created_time\": \"2021-01-31T19:06:00.246993Z\", \"created_time_dt\": \"2021-01-31T19:06:00.246993Z\", \"duration\": \"0:00:35\", \"iteration\": \"33\", \"goal\": \"accuracy_max\", \"run_name\": \"VotingEnsemble\", \"run_properties\": \"classification_labels=None,\\n                              estimators=[('13',\\n                                           Pipeline(memory=None,\\n                                                    steps=[('robustscaler',\\n                                                            RobustScaler(copy=True,\\n                                                                         quantile_range=[25,\\n                                                                                         75],\\n                                                                         with_centering=True,\\n                                                                         with_scaling=False\", \"primary_metric\": 0.85949495, \"best_metric\": 0.85949495}, {\"run_id\": \"AutoML_71e10d2f-fa78-46af-b279-7f3c4f9555f6_34\", \"run_number\": 36, \"metric\": null, \"status\": \"Completed\", \"run_type\": null, \"training_percent\": \"100\", \"start_time\": \"2021-01-31T19:06:36.485377Z\", \"end_time\": \"2021-01-31T19:07:08.144296Z\", \"created_time\": \"2021-01-31T19:06:36.408175Z\", \"created_time_dt\": \"2021-01-31T19:06:36.408175Z\", \"duration\": \"0:00:31\", \"iteration\": \"34\", \"goal\": \"accuracy_max\", \"run_name\": \"StackEnsemble\", \"run_properties\": \"base_learners=[('13',\\n                                        Pipeline(memory=None,\\n                                                 steps=[('robustscaler',\\n                                                         RobustScaler(copy=True,\\n                                                                      quantile_range=[25,\\n                                                                                      75],\\n                                                                      with_centering=True,\\n                                                                      with_scaling=False\", \"primary_metric\": 0.8326936, \"best_metric\": 0.85949495}], \"children_metrics\": {\"categories\": [0], \"series\": {\"norm_macro_recall\": [{\"categories\": [\"0\", \"1\", \"2\", \"3\", \"4\", \"5\", \"6\", \"7\", \"8\", \"9\", \"10\", \"11\", \"12\", \"13\", \"14\", \"15\", \"16\", \"17\", \"18\", \"19\", \"20\", \"21\", \"22\", \"23\", \"24\", \"25\", \"26\", \"27\", \"28\", \"29\", \"30\", \"31\", \"32\", \"33\", \"34\"], \"mode\": \"markers\", \"name\": \"norm_macro_recall\", \"stepped\": false, \"type\": \"scatter\", \"data\": [0.5331084779360642, 0.5799208075070145, 0.6133453650695031, 0.5612420302075475, 0.6473823577271852, 0.20388319353836595, 0.6035700725355898, 0.5533745568228327, 0.5710577572646539, 0.5499080361149326, 0.6134913238361513, 0.5386628007317663, 0.5075227937296902, 0.5849460297736161, 0.5221004255487014, 0.5083438117920877, 0.5899737175599246, 0.17445968135623305, 0.5711203814652089, 0.5131057165539924, 0.01765953145263488, 0.5350646212715178, 0.6502936433970917, 0.5246142694418556, 0.40280773384221646, 0.2981390257252326, 0.4998782033264792, 0.6014393704048876, 0.5780129883578159, 0.4507551886862231, 0.0, 0.5799065074927144, 0.6008762457038319, 0.6474854164509337, 0.6118754222202497]}, {\"categories\": [\"0\", \"1\", \"2\", \"3\", \"4\", \"5\", \"6\", \"7\", \"8\", \"9\", \"10\", \"11\", \"12\", \"13\", \"14\", \"15\", \"16\", \"17\", \"18\", \"19\", \"20\", \"21\", \"22\", \"23\", \"24\", \"25\", \"26\", \"27\", \"28\", \"29\", \"30\", \"31\", \"32\", \"33\", \"34\"], \"mode\": \"lines\", \"name\": \"norm_macro_recall_max\", \"stepped\": true, \"type\": \"scatter\", \"data\": [0.5331084779360642, 0.5799208075070145, 0.6133453650695031, 0.6133453650695031, 0.6473823577271852, 0.6473823577271852, 0.6473823577271852, 0.6473823577271852, 0.6473823577271852, 0.6473823577271852, 0.6473823577271852, 0.6473823577271852, 0.6473823577271852, 0.6473823577271852, 0.6473823577271852, 0.6473823577271852, 0.6473823577271852, 0.6473823577271852, 0.6473823577271852, 0.6473823577271852, 0.6473823577271852, 0.6473823577271852, 0.6502936433970917, 0.6502936433970917, 0.6502936433970917, 0.6502936433970917, 0.6502936433970917, 0.6502936433970917, 0.6502936433970917, 0.6502936433970917, 0.6502936433970917, 0.6502936433970917, 0.6502936433970917, 0.6502936433970917, 0.6502936433970917]}], \"AUC_weighted\": [{\"categories\": [\"0\", \"1\", \"2\", \"3\", \"4\", \"5\", \"6\", \"7\", \"8\", \"9\", \"10\", \"11\", \"12\", \"13\", \"14\", \"15\", \"16\", \"17\", \"18\", \"19\", \"20\", \"21\", \"22\", \"23\", \"24\", \"25\", \"26\", \"27\", \"28\", \"29\", \"30\", \"31\", \"32\", \"33\", \"34\"], \"mode\": \"markers\", \"name\": \"AUC_weighted\", \"stepped\": false, \"type\": \"scatter\", \"data\": [0.8550287233045855, 0.875938401455643, 0.8956745415366104, 0.8951406085888846, 0.8942397076879836, 0.7412870012870014, 0.9025998905309249, 0.8890331217917425, 0.8723482595896389, 0.8523372633717461, 0.893233578405992, 0.8845916359709464, 0.8347640744192467, 0.8763829839691909, 0.8746535205155895, 0.8895252395252395, 0.8747476047476047, 0.8509333964506379, 0.865033259860846, 0.886682495303185, 0.5240911354704457, 0.850605778191985, 0.9063589698072457, 0.8948389522527452, 0.8741344546516961, 0.6738204707170224, 0.8624106372382235, 0.8843771604116432, 0.8747113616079133, 0.8713443739305808, 0.7197557902730316, 0.8747813823675893, 0.8871056277952829, 0.9021276941966597, 0.9043506560747939]}, {\"categories\": [\"0\", \"1\", \"2\", \"3\", \"4\", \"5\", \"6\", \"7\", \"8\", \"9\", \"10\", \"11\", \"12\", \"13\", \"14\", \"15\", \"16\", \"17\", \"18\", \"19\", \"20\", \"21\", \"22\", \"23\", \"24\", \"25\", \"26\", \"27\", \"28\", \"29\", \"30\", \"31\", \"32\", \"33\", \"34\"], \"mode\": \"lines\", \"name\": \"AUC_weighted_max\", \"stepped\": true, \"type\": \"scatter\", \"data\": [0.8550287233045855, 0.875938401455643, 0.8956745415366104, 0.8956745415366104, 0.8956745415366104, 0.8956745415366104, 0.9025998905309249, 0.9025998905309249, 0.9025998905309249, 0.9025998905309249, 0.9025998905309249, 0.9025998905309249, 0.9025998905309249, 0.9025998905309249, 0.9025998905309249, 0.9025998905309249, 0.9025998905309249, 0.9025998905309249, 0.9025998905309249, 0.9025998905309249, 0.9025998905309249, 0.9025998905309249, 0.9063589698072457, 0.9063589698072457, 0.9063589698072457, 0.9063589698072457, 0.9063589698072457, 0.9063589698072457, 0.9063589698072457, 0.9063589698072457, 0.9063589698072457, 0.9063589698072457, 0.9063589698072457, 0.9063589698072457, 0.9063589698072457]}], \"recall_score_micro\": [{\"categories\": [\"0\", \"1\", \"2\", \"3\", \"4\", \"5\", \"6\", \"7\", \"8\", \"9\", \"10\", \"11\", \"12\", \"13\", \"14\", \"15\", \"16\", \"17\", \"18\", \"19\", \"20\", \"21\", \"22\", \"23\", \"24\", \"25\", \"26\", \"27\", \"28\", \"29\", \"30\", \"31\", \"32\", \"33\", \"34\"], \"mode\": \"markers\", \"name\": \"recall_score_micro\", \"stepped\": false, \"type\": \"scatter\", \"data\": [0.8025252525252524, 0.8192929292929293, 0.8327609427609427, 0.8126936026936026, 0.8460606060606061, 0.7156565656565657, 0.8293602693602694, 0.8226599326599326, 0.8293939393939395, 0.8159932659932659, 0.8326599326599328, 0.826026936026936, 0.8026599326599326, 0.8461279461279462, 0.8260606060606062, 0.8024915824915825, 0.826026936026936, 0.7257912457912458, 0.8261279461279462, 0.8059259259259259, 0.6053198653198653, 0.8127272727272729, 0.8326936026936026, 0.816026936026936, 0.7924915824915825, 0.5955218855218855, 0.8194276094276094, 0.8394612794612795, 0.8226936026936027, 0.8025925925925925, 0.6790235690235691, 0.826026936026936, 0.8325925925925927, 0.8594949494949495, 0.8326936026936026]}, {\"categories\": [\"0\", \"1\", \"2\", \"3\", \"4\", \"5\", \"6\", \"7\", \"8\", \"9\", \"10\", \"11\", \"12\", \"13\", \"14\", \"15\", \"16\", \"17\", \"18\", \"19\", \"20\", \"21\", \"22\", \"23\", \"24\", \"25\", \"26\", \"27\", \"28\", \"29\", \"30\", \"31\", \"32\", \"33\", \"34\"], \"mode\": \"lines\", \"name\": \"recall_score_micro_max\", \"stepped\": true, \"type\": \"scatter\", \"data\": [0.8025252525252524, 0.8192929292929293, 0.8327609427609427, 0.8327609427609427, 0.8460606060606061, 0.8460606060606061, 0.8460606060606061, 0.8460606060606061, 0.8460606060606061, 0.8460606060606061, 0.8460606060606061, 0.8460606060606061, 0.8460606060606061, 0.8461279461279462, 0.8461279461279462, 0.8461279461279462, 0.8461279461279462, 0.8461279461279462, 0.8461279461279462, 0.8461279461279462, 0.8461279461279462, 0.8461279461279462, 0.8461279461279462, 0.8461279461279462, 0.8461279461279462, 0.8461279461279462, 0.8461279461279462, 0.8461279461279462, 0.8461279461279462, 0.8461279461279462, 0.8461279461279462, 0.8461279461279462, 0.8461279461279462, 0.8594949494949495, 0.8594949494949495]}], \"log_loss\": [{\"categories\": [\"0\", \"1\", \"2\", \"3\", \"4\", \"5\", \"6\", \"7\", \"8\", \"9\", \"10\", \"11\", \"12\", \"13\", \"14\", \"15\", \"16\", \"17\", \"18\", \"19\", \"20\", \"21\", \"22\", \"23\", \"24\", \"25\", \"26\", \"27\", \"28\", \"29\", \"30\", \"31\", \"32\", \"33\", \"34\"], \"mode\": \"markers\", \"name\": \"log_loss\", \"stepped\": false, \"type\": \"scatter\", \"data\": [0.5791360620615199, 0.4649911805096085, 0.40030106559925044, 0.41328366878965817, 0.3958512534384682, 0.5711368091665868, 0.3852504098311053, 0.4209270216887617, 0.4296126864633482, 0.4414816726328985, 0.39182180940170075, 0.4381326788082767, 0.5035212911897063, 0.42602579367036836, 0.45363099785762956, 0.4936201399323051, 0.4578934274639797, 0.5179565664440173, 0.44043870097792065, 0.4274195637378553, 1.3947669379466143, 0.44768435916022287, 0.4380196364435048, 0.43354557712512026, 0.49210402347717785, 0.6867167561855497, 0.45230792253247404, 0.41390343738743707, 0.4274285582797957, 0.4750010668021987, 0.586823853425235, 0.42206171735375864, 0.39196652784125385, 0.4119392624071767, 0.41647168489617176]}, {\"categories\": [\"0\", \"1\", \"2\", \"3\", \"4\", \"5\", \"6\", \"7\", \"8\", \"9\", \"10\", \"11\", \"12\", \"13\", \"14\", \"15\", \"16\", \"17\", \"18\", \"19\", \"20\", \"21\", \"22\", \"23\", \"24\", \"25\", \"26\", \"27\", \"28\", \"29\", \"30\", \"31\", \"32\", \"33\", \"34\"], \"mode\": \"lines\", \"name\": \"log_loss_min\", \"stepped\": true, \"type\": \"scatter\", \"data\": [0.5791360620615199, 0.4649911805096085, 0.40030106559925044, 0.40030106559925044, 0.3958512534384682, 0.3958512534384682, 0.3852504098311053, 0.3852504098311053, 0.3852504098311053, 0.3852504098311053, 0.3852504098311053, 0.3852504098311053, 0.3852504098311053, 0.3852504098311053, 0.3852504098311053, 0.3852504098311053, 0.3852504098311053, 0.3852504098311053, 0.3852504098311053, 0.3852504098311053, 0.3852504098311053, 0.3852504098311053, 0.3852504098311053, 0.3852504098311053, 0.3852504098311053, 0.3852504098311053, 0.3852504098311053, 0.3852504098311053, 0.3852504098311053, 0.3852504098311053, 0.3852504098311053, 0.3852504098311053, 0.3852504098311053, 0.3852504098311053, 0.3852504098311053]}], \"f1_score_micro\": [{\"categories\": [\"0\", \"1\", \"2\", \"3\", \"4\", \"5\", \"6\", \"7\", \"8\", \"9\", \"10\", \"11\", \"12\", \"13\", \"14\", \"15\", \"16\", \"17\", \"18\", \"19\", \"20\", \"21\", \"22\", \"23\", \"24\", \"25\", \"26\", \"27\", \"28\", \"29\", \"30\", \"31\", \"32\", \"33\", \"34\"], \"mode\": \"markers\", \"name\": \"f1_score_micro\", \"stepped\": false, \"type\": \"scatter\", \"data\": [0.8025252525252525, 0.8192929292929293, 0.8327609427609429, 0.8126936026936028, 0.8460606060606061, 0.7156565656565657, 0.8293602693602694, 0.8226599326599326, 0.8293939393939395, 0.8159932659932659, 0.8326599326599328, 0.826026936026936, 0.8026599326599326, 0.8461279461279462, 0.8260606060606062, 0.8024915824915825, 0.8260269360269361, 0.7257912457912458, 0.8261279461279462, 0.8059259259259259, 0.6053198653198653, 0.8127272727272729, 0.8326936026936026, 0.816026936026936, 0.7924915824915825, 0.5955218855218855, 0.8194276094276094, 0.8394612794612795, 0.8226936026936027, 0.8025925925925925, 0.6790235690235691, 0.8260269360269361, 0.8325925925925927, 0.8594949494949495, 0.8326936026936028]}, {\"categories\": [\"0\", \"1\", \"2\", \"3\", \"4\", \"5\", \"6\", \"7\", \"8\", \"9\", \"10\", \"11\", \"12\", \"13\", \"14\", \"15\", \"16\", \"17\", \"18\", \"19\", \"20\", \"21\", \"22\", \"23\", \"24\", \"25\", \"26\", \"27\", \"28\", \"29\", \"30\", \"31\", \"32\", \"33\", \"34\"], \"mode\": \"lines\", \"name\": \"f1_score_micro_max\", \"stepped\": true, \"type\": \"scatter\", \"data\": [0.8025252525252525, 0.8192929292929293, 0.8327609427609429, 0.8327609427609429, 0.8460606060606061, 0.8460606060606061, 0.8460606060606061, 0.8460606060606061, 0.8460606060606061, 0.8460606060606061, 0.8460606060606061, 0.8460606060606061, 0.8460606060606061, 0.8461279461279462, 0.8461279461279462, 0.8461279461279462, 0.8461279461279462, 0.8461279461279462, 0.8461279461279462, 0.8461279461279462, 0.8461279461279462, 0.8461279461279462, 0.8461279461279462, 0.8461279461279462, 0.8461279461279462, 0.8461279461279462, 0.8461279461279462, 0.8461279461279462, 0.8461279461279462, 0.8461279461279462, 0.8461279461279462, 0.8461279461279462, 0.8461279461279462, 0.8594949494949495, 0.8594949494949495]}], \"balanced_accuracy\": [{\"categories\": [\"0\", \"1\", \"2\", \"3\", \"4\", \"5\", \"6\", \"7\", \"8\", \"9\", \"10\", \"11\", \"12\", \"13\", \"14\", \"15\", \"16\", \"17\", \"18\", \"19\", \"20\", \"21\", \"22\", \"23\", \"24\", \"25\", \"26\", \"27\", \"28\", \"29\", \"30\", \"31\", \"32\", \"33\", \"34\"], \"mode\": \"markers\", \"name\": \"balanced_accuracy\", \"stepped\": false, \"type\": \"scatter\", \"data\": [0.7665542389680322, 0.7899604037535072, 0.8066726825347516, 0.7806210151037737, 0.8236911788635926, 0.601941596769183, 0.8017850362677948, 0.7766872784114164, 0.785528878632327, 0.7749540180574662, 0.8067456619180757, 0.7693314003658832, 0.7537613968648452, 0.792473014886808, 0.7610502127743507, 0.7541719058960439, 0.7949868587799623, 0.5872298406781166, 0.7855601907326045, 0.7565528582769961, 0.5088297657263174, 0.7675323106357589, 0.8251468216985458, 0.7623071347209279, 0.7014038669211082, 0.6490695128626163, 0.7499391016632396, 0.8007196852024437, 0.789006494178908, 0.7253775943431116, 0.5, 0.7899532537463573, 0.800438122851916, 0.8237427082254668, 0.8059377111101248]}, {\"categories\": [\"0\", \"1\", \"2\", \"3\", \"4\", \"5\", \"6\", \"7\", \"8\", \"9\", \"10\", \"11\", \"12\", \"13\", \"14\", \"15\", \"16\", \"17\", \"18\", \"19\", \"20\", \"21\", \"22\", \"23\", \"24\", \"25\", \"26\", \"27\", \"28\", \"29\", \"30\", \"31\", \"32\", \"33\", \"34\"], \"mode\": \"lines\", \"name\": \"balanced_accuracy_max\", \"stepped\": true, \"type\": \"scatter\", \"data\": [0.7665542389680322, 0.7899604037535072, 0.8066726825347516, 0.8066726825347516, 0.8236911788635926, 0.8236911788635926, 0.8236911788635926, 0.8236911788635926, 0.8236911788635926, 0.8236911788635926, 0.8236911788635926, 0.8236911788635926, 0.8236911788635926, 0.8236911788635926, 0.8236911788635926, 0.8236911788635926, 0.8236911788635926, 0.8236911788635926, 0.8236911788635926, 0.8236911788635926, 0.8236911788635926, 0.8236911788635926, 0.8251468216985458, 0.8251468216985458, 0.8251468216985458, 0.8251468216985458, 0.8251468216985458, 0.8251468216985458, 0.8251468216985458, 0.8251468216985458, 0.8251468216985458, 0.8251468216985458, 0.8251468216985458, 0.8251468216985458, 0.8251468216985458]}], \"f1_score_macro\": [{\"categories\": [\"0\", \"1\", \"2\", \"3\", \"4\", \"5\", \"6\", \"7\", \"8\", \"9\", \"10\", \"11\", \"12\", \"13\", \"14\", \"15\", \"16\", \"17\", \"18\", \"19\", \"20\", \"21\", \"22\", \"23\", \"24\", \"25\", \"26\", \"27\", \"28\", \"29\", \"30\", \"31\", \"32\", \"33\", \"34\"], \"mode\": \"markers\", \"name\": \"f1_score_macro\", \"stepped\": false, \"type\": \"scatter\", \"data\": [0.7670520318568558, 0.7892216866138503, 0.8050141148141924, 0.7799531869174086, 0.8214167452816881, 0.6010884575400705, 0.7999336469330607, 0.7847256672933836, 0.794177639906812, 0.7806978037806314, 0.8051026086397824, 0.7819202477082499, 0.7602425138914493, 0.8081716869277495, 0.7788455416880075, 0.7595386231160924, 0.7954212592536024, 0.5665381723698438, 0.7913906142167013, 0.7619587005406633, 0.49391304347826087, 0.7755874083655409, 0.8121655269615514, 0.7733693628606209, 0.7165788655633255, 0.5486154104590648, 0.7684327832549873, 0.8067548301304845, 0.7900443365763717, 0.7439108266217896, 0.40415631893298937, 0.7930741740113247, 0.8026982943594164, 0.8305328774514722, 0.8028506926060719]}, {\"categories\": [\"0\", \"1\", \"2\", \"3\", \"4\", \"5\", \"6\", \"7\", \"8\", \"9\", \"10\", \"11\", \"12\", \"13\", \"14\", \"15\", \"16\", \"17\", \"18\", \"19\", \"20\", \"21\", \"22\", \"23\", \"24\", \"25\", \"26\", \"27\", \"28\", \"29\", \"30\", \"31\", \"32\", \"33\", \"34\"], \"mode\": \"lines\", \"name\": \"f1_score_macro_max\", \"stepped\": true, \"type\": \"scatter\", \"data\": [0.7670520318568558, 0.7892216866138503, 0.8050141148141924, 0.8050141148141924, 0.8214167452816881, 0.8214167452816881, 0.8214167452816881, 0.8214167452816881, 0.8214167452816881, 0.8214167452816881, 0.8214167452816881, 0.8214167452816881, 0.8214167452816881, 0.8214167452816881, 0.8214167452816881, 0.8214167452816881, 0.8214167452816881, 0.8214167452816881, 0.8214167452816881, 0.8214167452816881, 0.8214167452816881, 0.8214167452816881, 0.8214167452816881, 0.8214167452816881, 0.8214167452816881, 0.8214167452816881, 0.8214167452816881, 0.8214167452816881, 0.8214167452816881, 0.8214167452816881, 0.8214167452816881, 0.8214167452816881, 0.8214167452816881, 0.8305328774514722, 0.8305328774514722]}], \"precision_score_micro\": [{\"categories\": [\"0\", \"1\", \"2\", \"3\", \"4\", \"5\", \"6\", \"7\", \"8\", \"9\", \"10\", \"11\", \"12\", \"13\", \"14\", \"15\", \"16\", \"17\", \"18\", \"19\", \"20\", \"21\", \"22\", \"23\", \"24\", \"25\", \"26\", \"27\", \"28\", \"29\", \"30\", \"31\", \"32\", \"33\", \"34\"], \"mode\": \"markers\", \"name\": \"precision_score_micro\", \"stepped\": false, \"type\": \"scatter\", \"data\": [0.8025252525252524, 0.8192929292929293, 0.8327609427609427, 0.8126936026936026, 0.8460606060606061, 0.7156565656565657, 0.8293602693602694, 0.8226599326599326, 0.8293939393939395, 0.8159932659932659, 0.8326599326599328, 0.826026936026936, 0.8026599326599326, 0.8461279461279462, 0.8260606060606062, 0.8024915824915825, 0.826026936026936, 0.7257912457912458, 0.8261279461279462, 0.8059259259259259, 0.6053198653198653, 0.8127272727272729, 0.8326936026936026, 0.816026936026936, 0.7924915824915825, 0.5955218855218855, 0.8194276094276094, 0.8394612794612795, 0.8226936026936027, 0.8025925925925925, 0.6790235690235691, 0.826026936026936, 0.8325925925925927, 0.8594949494949495, 0.8326936026936026]}, {\"categories\": [\"0\", \"1\", \"2\", \"3\", \"4\", \"5\", \"6\", \"7\", \"8\", \"9\", \"10\", \"11\", \"12\", \"13\", \"14\", \"15\", \"16\", \"17\", \"18\", \"19\", \"20\", \"21\", \"22\", \"23\", \"24\", \"25\", \"26\", \"27\", \"28\", \"29\", \"30\", \"31\", \"32\", \"33\", \"34\"], \"mode\": \"lines\", \"name\": \"precision_score_micro_max\", \"stepped\": true, \"type\": \"scatter\", \"data\": [0.8025252525252524, 0.8192929292929293, 0.8327609427609427, 0.8327609427609427, 0.8460606060606061, 0.8460606060606061, 0.8460606060606061, 0.8460606060606061, 0.8460606060606061, 0.8460606060606061, 0.8460606060606061, 0.8460606060606061, 0.8460606060606061, 0.8461279461279462, 0.8461279461279462, 0.8461279461279462, 0.8461279461279462, 0.8461279461279462, 0.8461279461279462, 0.8461279461279462, 0.8461279461279462, 0.8461279461279462, 0.8461279461279462, 0.8461279461279462, 0.8461279461279462, 0.8461279461279462, 0.8461279461279462, 0.8461279461279462, 0.8461279461279462, 0.8461279461279462, 0.8461279461279462, 0.8461279461279462, 0.8461279461279462, 0.8594949494949495, 0.8594949494949495]}], \"f1_score_weighted\": [{\"categories\": [\"0\", \"1\", \"2\", \"3\", \"4\", \"5\", \"6\", \"7\", \"8\", \"9\", \"10\", \"11\", \"12\", \"13\", \"14\", \"15\", \"16\", \"17\", \"18\", \"19\", \"20\", \"21\", \"22\", \"23\", \"24\", \"25\", \"26\", \"27\", \"28\", \"29\", \"30\", \"31\", \"32\", \"33\", \"34\"], \"mode\": \"markers\", \"name\": \"f1_score_weighted\", \"stepped\": false, \"type\": \"scatter\", \"data\": [0.7994850745596541, 0.8173118768300475, 0.8306186051582412, 0.8098505997656411, 0.8449237799212175, 0.6783215142628632, 0.8265188634042729, 0.8173311147553043, 0.8241448914253456, 0.8121937799656576, 0.8306905336479234, 0.8164740735429362, 0.7953411782056244, 0.8379598560492497, 0.814611209628333, 0.7951838730598105, 0.8233431930001357, 0.6589497772212685, 0.8204290872841598, 0.7978501007682554, 0.5768108134484945, 0.8074563859744015, 0.8345189745120045, 0.8079512565777964, 0.7708674438017016, 0.5469200077488282, 0.8067581949847709, 0.8341056678092379, 0.8186590618082117, 0.7886152226273634, 0.5497345001811592, 0.8220938332143483, 0.8304070634604162, 0.8545489655285241, 0.8290795522382076]}, {\"categories\": [\"0\", \"1\", \"2\", \"3\", \"4\", \"5\", \"6\", \"7\", \"8\", \"9\", \"10\", \"11\", \"12\", \"13\", \"14\", \"15\", \"16\", \"17\", \"18\", \"19\", \"20\", \"21\", \"22\", \"23\", \"24\", \"25\", \"26\", \"27\", \"28\", \"29\", \"30\", \"31\", \"32\", \"33\", \"34\"], \"mode\": \"lines\", \"name\": \"f1_score_weighted_max\", \"stepped\": true, \"type\": \"scatter\", \"data\": [0.7994850745596541, 0.8173118768300475, 0.8306186051582412, 0.8306186051582412, 0.8449237799212175, 0.8449237799212175, 0.8449237799212175, 0.8449237799212175, 0.8449237799212175, 0.8449237799212175, 0.8449237799212175, 0.8449237799212175, 0.8449237799212175, 0.8449237799212175, 0.8449237799212175, 0.8449237799212175, 0.8449237799212175, 0.8449237799212175, 0.8449237799212175, 0.8449237799212175, 0.8449237799212175, 0.8449237799212175, 0.8449237799212175, 0.8449237799212175, 0.8449237799212175, 0.8449237799212175, 0.8449237799212175, 0.8449237799212175, 0.8449237799212175, 0.8449237799212175, 0.8449237799212175, 0.8449237799212175, 0.8449237799212175, 0.8545489655285241, 0.8545489655285241]}], \"recall_score_macro\": [{\"categories\": [\"0\", \"1\", \"2\", \"3\", \"4\", \"5\", \"6\", \"7\", \"8\", \"9\", \"10\", \"11\", \"12\", \"13\", \"14\", \"15\", \"16\", \"17\", \"18\", \"19\", \"20\", \"21\", \"22\", \"23\", \"24\", \"25\", \"26\", \"27\", \"28\", \"29\", \"30\", \"31\", \"32\", \"33\", \"34\"], \"mode\": \"markers\", \"name\": \"recall_score_macro\", \"stepped\": false, \"type\": \"scatter\", \"data\": [0.7665542389680322, 0.7899604037535072, 0.8066726825347516, 0.7806210151037737, 0.8236911788635926, 0.601941596769183, 0.8017850362677948, 0.7766872784114164, 0.785528878632327, 0.7749540180574662, 0.8067456619180757, 0.7693314003658832, 0.7537613968648452, 0.792473014886808, 0.7610502127743507, 0.7541719058960439, 0.7949868587799623, 0.5872298406781166, 0.7855601907326045, 0.7565528582769961, 0.5088297657263174, 0.7675323106357589, 0.8251468216985458, 0.7623071347209279, 0.7014038669211082, 0.6490695128626163, 0.7499391016632396, 0.8007196852024437, 0.789006494178908, 0.7253775943431116, 0.5, 0.7899532537463573, 0.800438122851916, 0.8237427082254668, 0.8059377111101248]}, {\"categories\": [\"0\", \"1\", \"2\", \"3\", \"4\", \"5\", \"6\", \"7\", \"8\", \"9\", \"10\", \"11\", \"12\", \"13\", \"14\", \"15\", \"16\", \"17\", \"18\", \"19\", \"20\", \"21\", \"22\", \"23\", \"24\", \"25\", \"26\", \"27\", \"28\", \"29\", \"30\", \"31\", \"32\", \"33\", \"34\"], \"mode\": \"lines\", \"name\": \"recall_score_macro_max\", \"stepped\": true, \"type\": \"scatter\", \"data\": [0.7665542389680322, 0.7899604037535072, 0.8066726825347516, 0.8066726825347516, 0.8236911788635926, 0.8236911788635926, 0.8236911788635926, 0.8236911788635926, 0.8236911788635926, 0.8236911788635926, 0.8236911788635926, 0.8236911788635926, 0.8236911788635926, 0.8236911788635926, 0.8236911788635926, 0.8236911788635926, 0.8236911788635926, 0.8236911788635926, 0.8236911788635926, 0.8236911788635926, 0.8236911788635926, 0.8236911788635926, 0.8251468216985458, 0.8251468216985458, 0.8251468216985458, 0.8251468216985458, 0.8251468216985458, 0.8251468216985458, 0.8251468216985458, 0.8251468216985458, 0.8251468216985458, 0.8251468216985458, 0.8251468216985458, 0.8251468216985458, 0.8251468216985458]}], \"average_precision_score_weighted\": [{\"categories\": [\"0\", \"1\", \"2\", \"3\", \"4\", \"5\", \"6\", \"7\", \"8\", \"9\", \"10\", \"11\", \"12\", \"13\", \"14\", \"15\", \"16\", \"17\", \"18\", \"19\", \"20\", \"21\", \"22\", \"23\", \"24\", \"25\", \"26\", \"27\", \"28\", \"29\", \"30\", \"31\", \"32\", \"33\", \"34\"], \"mode\": \"markers\", \"name\": \"average_precision_score_weighted\", \"stepped\": false, \"type\": \"scatter\", \"data\": [0.8648843990393956, 0.8836277505100775, 0.9008582776418135, 0.9032000275489757, 0.9020638402076399, 0.768992747401164, 0.9072439961596244, 0.8955021357091407, 0.8814167072739009, 0.865115733430672, 0.9016136558322865, 0.891473158093814, 0.8440446723791495, 0.8858708019061985, 0.8861474827894543, 0.9014409127030197, 0.8810561308845246, 0.8642845370525958, 0.8770230178522361, 0.8947655575373119, 0.6093647093859988, 0.8692726829311764, 0.9129850338356236, 0.9033183808519919, 0.8776112576111128, 0.690060920187101, 0.8756633349062987, 0.8925479744200945, 0.8877457438747142, 0.870580446723077, 0.7367307577203598, 0.8828540371282445, 0.8972272776395384, 0.9065334908270081, 0.9086598387322637]}, {\"categories\": [\"0\", \"1\", \"2\", \"3\", \"4\", \"5\", \"6\", \"7\", \"8\", \"9\", \"10\", \"11\", \"12\", \"13\", \"14\", \"15\", \"16\", \"17\", \"18\", \"19\", \"20\", \"21\", \"22\", \"23\", \"24\", \"25\", \"26\", \"27\", \"28\", \"29\", \"30\", \"31\", \"32\", \"33\", \"34\"], \"mode\": \"lines\", \"name\": \"average_precision_score_weighted_max\", \"stepped\": true, \"type\": \"scatter\", \"data\": [0.8648843990393956, 0.8836277505100775, 0.9008582776418135, 0.9032000275489757, 0.9032000275489757, 0.9032000275489757, 0.9072439961596244, 0.9072439961596244, 0.9072439961596244, 0.9072439961596244, 0.9072439961596244, 0.9072439961596244, 0.9072439961596244, 0.9072439961596244, 0.9072439961596244, 0.9072439961596244, 0.9072439961596244, 0.9072439961596244, 0.9072439961596244, 0.9072439961596244, 0.9072439961596244, 0.9072439961596244, 0.9129850338356236, 0.9129850338356236, 0.9129850338356236, 0.9129850338356236, 0.9129850338356236, 0.9129850338356236, 0.9129850338356236, 0.9129850338356236, 0.9129850338356236, 0.9129850338356236, 0.9129850338356236, 0.9129850338356236, 0.9129850338356236]}], \"accuracy\": [{\"categories\": [\"0\", \"1\", \"2\", \"3\", \"4\", \"5\", \"6\", \"7\", \"8\", \"9\", \"10\", \"11\", \"12\", \"13\", \"14\", \"15\", \"16\", \"17\", \"18\", \"19\", \"20\", \"21\", \"22\", \"23\", \"24\", \"25\", \"26\", \"27\", \"28\", \"29\", \"30\", \"31\", \"32\", \"33\", \"34\"], \"mode\": \"markers\", \"name\": \"accuracy\", \"stepped\": false, \"type\": \"scatter\", \"data\": [0.8025252525252524, 0.8192929292929293, 0.8327609427609427, 0.8126936026936026, 0.8460606060606061, 0.7156565656565657, 0.8293602693602694, 0.8226599326599326, 0.8293939393939395, 0.8159932659932659, 0.8326599326599328, 0.826026936026936, 0.8026599326599326, 0.8461279461279462, 0.8260606060606062, 0.8024915824915825, 0.826026936026936, 0.7257912457912458, 0.8261279461279462, 0.8059259259259259, 0.6053198653198653, 0.8127272727272729, 0.8326936026936026, 0.816026936026936, 0.7924915824915825, 0.5955218855218855, 0.8194276094276094, 0.8394612794612795, 0.8226936026936027, 0.8025925925925925, 0.6790235690235691, 0.826026936026936, 0.8325925925925927, 0.8594949494949495, 0.8326936026936026]}, {\"categories\": [\"0\", \"1\", \"2\", \"3\", \"4\", \"5\", \"6\", \"7\", \"8\", \"9\", \"10\", \"11\", \"12\", \"13\", \"14\", \"15\", \"16\", \"17\", \"18\", \"19\", \"20\", \"21\", \"22\", \"23\", \"24\", \"25\", \"26\", \"27\", \"28\", \"29\", \"30\", \"31\", \"32\", \"33\", \"34\"], \"mode\": \"lines\", \"name\": \"accuracy_max\", \"stepped\": true, \"type\": \"scatter\", \"data\": [0.8025252525252524, 0.8192929292929293, 0.8327609427609427, 0.8327609427609427, 0.8460606060606061, 0.8460606060606061, 0.8460606060606061, 0.8460606060606061, 0.8460606060606061, 0.8460606060606061, 0.8460606060606061, 0.8460606060606061, 0.8460606060606061, 0.8461279461279462, 0.8461279461279462, 0.8461279461279462, 0.8461279461279462, 0.8461279461279462, 0.8461279461279462, 0.8461279461279462, 0.8461279461279462, 0.8461279461279462, 0.8461279461279462, 0.8461279461279462, 0.8461279461279462, 0.8461279461279462, 0.8461279461279462, 0.8461279461279462, 0.8461279461279462, 0.8461279461279462, 0.8461279461279462, 0.8461279461279462, 0.8461279461279462, 0.8594949494949495, 0.8594949494949495]}], \"precision_score_weighted\": [{\"categories\": [\"0\", \"1\", \"2\", \"3\", \"4\", \"5\", \"6\", \"7\", \"8\", \"9\", \"10\", \"11\", \"12\", \"13\", \"14\", \"15\", \"16\", \"17\", \"18\", \"19\", \"20\", \"21\", \"22\", \"23\", \"24\", \"25\", \"26\", \"27\", \"28\", \"29\", \"30\", \"31\", \"32\", \"33\", \"34\"], \"mode\": \"markers\", \"name\": \"precision_score_weighted\", \"stepped\": false, \"type\": \"scatter\", \"data\": [0.8103076903348296, 0.8235687391092353, 0.8392497307335356, 0.8211613348496867, 0.853351883114434, 0.7043260398229974, 0.8356213582539191, 0.8266952200192033, 0.8302623890440656, 0.81769758847991, 0.842063699951424, 0.8308275449298176, 0.8050139666959505, 0.8514555125915667, 0.8334738928331605, 0.8149326707592586, 0.8305214032312453, 0.7651920648343769, 0.8281501571345643, 0.817004870569025, 0.5748612359042249, 0.8099584527920398, 0.8498603588826668, 0.8187064785920343, 0.7923651672933282, 0.5547569771791995, 0.8265143808248405, 0.8438885366787261, 0.8311816345737725, 0.8038309035019561, 0.46228299493248987, 0.8313890030112564, 0.8349048581888362, 0.8653845606662508, 0.845419102378905]}, {\"categories\": [\"0\", \"1\", \"2\", \"3\", \"4\", \"5\", \"6\", \"7\", \"8\", \"9\", \"10\", \"11\", \"12\", \"13\", \"14\", \"15\", \"16\", \"17\", \"18\", \"19\", \"20\", \"21\", \"22\", \"23\", \"24\", \"25\", \"26\", \"27\", \"28\", \"29\", \"30\", \"31\", \"32\", \"33\", \"34\"], \"mode\": \"lines\", \"name\": \"precision_score_weighted_max\", \"stepped\": true, \"type\": \"scatter\", \"data\": [0.8103076903348296, 0.8235687391092353, 0.8392497307335356, 0.8392497307335356, 0.853351883114434, 0.853351883114434, 0.853351883114434, 0.853351883114434, 0.853351883114434, 0.853351883114434, 0.853351883114434, 0.853351883114434, 0.853351883114434, 0.853351883114434, 0.853351883114434, 0.853351883114434, 0.853351883114434, 0.853351883114434, 0.853351883114434, 0.853351883114434, 0.853351883114434, 0.853351883114434, 0.853351883114434, 0.853351883114434, 0.853351883114434, 0.853351883114434, 0.853351883114434, 0.853351883114434, 0.853351883114434, 0.853351883114434, 0.853351883114434, 0.853351883114434, 0.853351883114434, 0.8653845606662508, 0.8653845606662508]}], \"average_precision_score_micro\": [{\"categories\": [\"0\", \"1\", \"2\", \"3\", \"4\", \"5\", \"6\", \"7\", \"8\", \"9\", \"10\", \"11\", \"12\", \"13\", \"14\", \"15\", \"16\", \"17\", \"18\", \"19\", \"20\", \"21\", \"22\", \"23\", \"24\", \"25\", \"26\", \"27\", \"28\", \"29\", \"30\", \"31\", \"32\", \"33\", \"34\"], \"mode\": \"markers\", \"name\": \"average_precision_score_micro\", \"stepped\": false, \"type\": \"scatter\", \"data\": [0.8707751210307144, 0.8886385174313017, 0.9042198705695103, 0.9080563757558698, 0.9056079190171747, 0.786340825439305, 0.9095021509349198, 0.8987940359724712, 0.8840700802473521, 0.8710512405115631, 0.900566173137717, 0.8912432012321995, 0.8539928366633033, 0.8912481315397364, 0.8853094646081748, 0.901566683851816, 0.8850887879255328, 0.8446427251415587, 0.8806872549641726, 0.8972398637902744, 0.6405314493701254, 0.8724290146043657, 0.9042370340559648, 0.9024464969186479, 0.868564269567774, 0.6311827507978182, 0.8774076575967378, 0.8934204846135545, 0.8904524275261977, 0.8709173320973704, 0.7726351245457937, 0.886882348348986, 0.9008145603789375, 0.9103255391985204, 0.9024532327249989]}, {\"categories\": [\"0\", \"1\", \"2\", \"3\", \"4\", \"5\", \"6\", \"7\", \"8\", \"9\", \"10\", \"11\", \"12\", \"13\", \"14\", \"15\", \"16\", \"17\", \"18\", \"19\", \"20\", \"21\", \"22\", \"23\", \"24\", \"25\", \"26\", \"27\", \"28\", \"29\", \"30\", \"31\", \"32\", \"33\", \"34\"], \"mode\": \"lines\", \"name\": \"average_precision_score_micro_max\", \"stepped\": true, \"type\": \"scatter\", \"data\": [0.8707751210307144, 0.8886385174313017, 0.9042198705695103, 0.9080563757558698, 0.9080563757558698, 0.9080563757558698, 0.9095021509349198, 0.9095021509349198, 0.9095021509349198, 0.9095021509349198, 0.9095021509349198, 0.9095021509349198, 0.9095021509349198, 0.9095021509349198, 0.9095021509349198, 0.9095021509349198, 0.9095021509349198, 0.9095021509349198, 0.9095021509349198, 0.9095021509349198, 0.9095021509349198, 0.9095021509349198, 0.9095021509349198, 0.9095021509349198, 0.9095021509349198, 0.9095021509349198, 0.9095021509349198, 0.9095021509349198, 0.9095021509349198, 0.9095021509349198, 0.9095021509349198, 0.9095021509349198, 0.9095021509349198, 0.9103255391985204, 0.9103255391985204]}], \"precision_score_macro\": [{\"categories\": [\"0\", \"1\", \"2\", \"3\", \"4\", \"5\", \"6\", \"7\", \"8\", \"9\", \"10\", \"11\", \"12\", \"13\", \"14\", \"15\", \"16\", \"17\", \"18\", \"19\", \"20\", \"21\", \"22\", \"23\", \"24\", \"25\", \"26\", \"27\", \"28\", \"29\", \"30\", \"31\", \"32\", \"33\", \"34\"], \"mode\": \"markers\", \"name\": \"precision_score_macro\", \"stepped\": false, \"type\": \"scatter\", \"data\": [0.7842311567478019, 0.7983113869170717, 0.8163444315403724, 0.7963541827611426, 0.8307015918956218, 0.6825033992376791, 0.8124455721789775, 0.8105958861358582, 0.816445047804697, 0.7974877618199617, 0.8196096595948731, 0.824191317941318, 0.7871941050071077, 0.8508010745106304, 0.8349907901141056, 0.797967921264758, 0.8076412404381256, 0.781982151845061, 0.8134395716381526, 0.800665196148611, 0.5099946955194615, 0.7929277626766211, 0.8159161012879457, 0.8073883291500771, 0.7909424148648286, 0.5211123136123136, 0.8283250836178514, 0.8309664190431553, 0.8111242579473874, 0.8007629431971538, 0.33951178451178454, 0.8120424845530034, 0.8128823830919725, 0.8563316573879954, 0.8240762691124434]}, {\"categories\": [\"0\", \"1\", \"2\", \"3\", \"4\", \"5\", \"6\", \"7\", \"8\", \"9\", \"10\", \"11\", \"12\", \"13\", \"14\", \"15\", \"16\", \"17\", \"18\", \"19\", \"20\", \"21\", \"22\", \"23\", \"24\", \"25\", \"26\", \"27\", \"28\", \"29\", \"30\", \"31\", \"32\", \"33\", \"34\"], \"mode\": \"lines\", \"name\": \"precision_score_macro_max\", \"stepped\": true, \"type\": \"scatter\", \"data\": [0.7842311567478019, 0.7983113869170717, 0.8163444315403724, 0.8163444315403724, 0.8307015918956218, 0.8307015918956218, 0.8307015918956218, 0.8307015918956218, 0.8307015918956218, 0.8307015918956218, 0.8307015918956218, 0.8307015918956218, 0.8307015918956218, 0.8508010745106304, 0.8508010745106304, 0.8508010745106304, 0.8508010745106304, 0.8508010745106304, 0.8508010745106304, 0.8508010745106304, 0.8508010745106304, 0.8508010745106304, 0.8508010745106304, 0.8508010745106304, 0.8508010745106304, 0.8508010745106304, 0.8508010745106304, 0.8508010745106304, 0.8508010745106304, 0.8508010745106304, 0.8508010745106304, 0.8508010745106304, 0.8508010745106304, 0.8563316573879954, 0.8563316573879954]}], \"average_precision_score_macro\": [{\"categories\": [\"0\", \"1\", \"2\", \"3\", \"4\", \"5\", \"6\", \"7\", \"8\", \"9\", \"10\", \"11\", \"12\", \"13\", \"14\", \"15\", \"16\", \"17\", \"18\", \"19\", \"20\", \"21\", \"22\", \"23\", \"24\", \"25\", \"26\", \"27\", \"28\", \"29\", \"30\", \"31\", \"32\", \"33\", \"34\"], \"mode\": \"markers\", \"name\": \"average_precision_score_macro\", \"stepped\": false, \"type\": \"scatter\", \"data\": [0.8323265818260129, 0.8521645844042397, 0.8724500881309701, 0.8756409686083364, 0.8769909033338251, 0.721112258807031, 0.8833311545773558, 0.8655138282721344, 0.8505468707843259, 0.8347177601421962, 0.877245926098786, 0.869225025179324, 0.812148279236013, 0.861610462856154, 0.8600559073487858, 0.870399579079106, 0.8499460932650927, 0.8352911569854754, 0.849118275061643, 0.8674715358875972, 0.5561596837658254, 0.8441826423063761, 0.8910723708500315, 0.8774015235038283, 0.8502024056206595, 0.6378608137770967, 0.8487923633157992, 0.8670038351498675, 0.8618230851265793, 0.8382720336141182, 0.6749903304615229, 0.8543420238204966, 0.8723648516202919, 0.88029451098156, 0.8878501017647297]}, {\"categories\": [\"0\", \"1\", \"2\", \"3\", \"4\", \"5\", \"6\", \"7\", \"8\", \"9\", \"10\", \"11\", \"12\", \"13\", \"14\", \"15\", \"16\", \"17\", \"18\", \"19\", \"20\", \"21\", \"22\", \"23\", \"24\", \"25\", \"26\", \"27\", \"28\", \"29\", \"30\", \"31\", \"32\", \"33\", \"34\"], \"mode\": \"lines\", \"name\": \"average_precision_score_macro_max\", \"stepped\": true, \"type\": \"scatter\", \"data\": [0.8323265818260129, 0.8521645844042397, 0.8724500881309701, 0.8756409686083364, 0.8769909033338251, 0.8769909033338251, 0.8833311545773558, 0.8833311545773558, 0.8833311545773558, 0.8833311545773558, 0.8833311545773558, 0.8833311545773558, 0.8833311545773558, 0.8833311545773558, 0.8833311545773558, 0.8833311545773558, 0.8833311545773558, 0.8833311545773558, 0.8833311545773558, 0.8833311545773558, 0.8833311545773558, 0.8833311545773558, 0.8910723708500315, 0.8910723708500315, 0.8910723708500315, 0.8910723708500315, 0.8910723708500315, 0.8910723708500315, 0.8910723708500315, 0.8910723708500315, 0.8910723708500315, 0.8910723708500315, 0.8910723708500315, 0.8910723708500315, 0.8910723708500315]}], \"weighted_accuracy\": [{\"categories\": [\"0\", \"1\", \"2\", \"3\", \"4\", \"5\", \"6\", \"7\", \"8\", \"9\", \"10\", \"11\", \"12\", \"13\", \"14\", \"15\", \"16\", \"17\", \"18\", \"19\", \"20\", \"21\", \"22\", \"23\", \"24\", \"25\", \"26\", \"27\", \"28\", \"29\", \"30\", \"31\", \"32\", \"33\", \"34\"], \"mode\": \"markers\", \"name\": \"weighted_accuracy\", \"stepped\": false, \"type\": \"scatter\", \"data\": [0.8310099034285422, 0.8426543037328149, 0.8539799408559933, 0.8384428269249895, 0.8642994361551047, 0.8016590618157968, 0.8517501485358215, 0.8581911580014809, 0.8634491196390175, 0.8478608178708912, 0.8538486649098401, 0.8697735587560095, 0.8409177551197641, 0.8875619365282731, 0.8760434270740779, 0.8406076164940046, 0.850694038083638, 0.830961598132174, 0.85818000804894, 0.8447546372180965, 0.6795479946403685, 0.8476123302779842, 0.8399800424044838, 0.857630149888151, 0.8605094345671774, 0.5503344248745858, 0.8726364952847904, 0.8701644267888858, 0.8498437649633798, 0.8607997440370725, 0.8139581109686231, 0.8546164680264036, 0.8576531872597771, 0.8879445597662033, 0.8549272479502491]}, {\"categories\": [\"0\", \"1\", \"2\", \"3\", \"4\", \"5\", \"6\", \"7\", \"8\", \"9\", \"10\", \"11\", \"12\", \"13\", \"14\", \"15\", \"16\", \"17\", \"18\", \"19\", \"20\", \"21\", \"22\", \"23\", \"24\", \"25\", \"26\", \"27\", \"28\", \"29\", \"30\", \"31\", \"32\", \"33\", \"34\"], \"mode\": \"lines\", \"name\": \"weighted_accuracy_max\", \"stepped\": true, \"type\": \"scatter\", \"data\": [0.8310099034285422, 0.8426543037328149, 0.8539799408559933, 0.8539799408559933, 0.8642994361551047, 0.8642994361551047, 0.8642994361551047, 0.8642994361551047, 0.8642994361551047, 0.8642994361551047, 0.8642994361551047, 0.8697735587560095, 0.8697735587560095, 0.8875619365282731, 0.8875619365282731, 0.8875619365282731, 0.8875619365282731, 0.8875619365282731, 0.8875619365282731, 0.8875619365282731, 0.8875619365282731, 0.8875619365282731, 0.8875619365282731, 0.8875619365282731, 0.8875619365282731, 0.8875619365282731, 0.8875619365282731, 0.8875619365282731, 0.8875619365282731, 0.8875619365282731, 0.8875619365282731, 0.8875619365282731, 0.8875619365282731, 0.8879445597662033, 0.8879445597662033]}], \"AUC_macro\": [{\"categories\": [\"0\", \"1\", \"2\", \"3\", \"4\", \"5\", \"6\", \"7\", \"8\", \"9\", \"10\", \"11\", \"12\", \"13\", \"14\", \"15\", \"16\", \"17\", \"18\", \"19\", \"20\", \"21\", \"22\", \"23\", \"24\", \"25\", \"26\", \"27\", \"28\", \"29\", \"30\", \"31\", \"32\", \"33\", \"34\"], \"mode\": \"markers\", \"name\": \"AUC_macro\", \"stepped\": false, \"type\": \"scatter\", \"data\": [0.8550287233045853, 0.875938401455643, 0.8956745415366104, 0.8951406085888846, 0.8942397076879836, 0.7412870012870014, 0.9025998905309249, 0.8890331217917424, 0.8723482595896389, 0.8523372633717461, 0.8932335784059923, 0.8845916359709464, 0.8347640744192469, 0.8763829839691909, 0.8746535205155895, 0.8895252395252395, 0.8747476047476047, 0.8509333964506377, 0.8650332598608461, 0.886682495303185, 0.5240911354704457, 0.850605778191985, 0.9063589698072457, 0.8948389522527452, 0.874134454651696, 0.6738204707170224, 0.8624106372382235, 0.8843771604116432, 0.8747113616079133, 0.8713443739305808, 0.7197557902730316, 0.8747813823675892, 0.887105627795283, 0.9021276941966597, 0.9043506560747939]}, {\"categories\": [\"0\", \"1\", \"2\", \"3\", \"4\", \"5\", \"6\", \"7\", \"8\", \"9\", \"10\", \"11\", \"12\", \"13\", \"14\", \"15\", \"16\", \"17\", \"18\", \"19\", \"20\", \"21\", \"22\", \"23\", \"24\", \"25\", \"26\", \"27\", \"28\", \"29\", \"30\", \"31\", \"32\", \"33\", \"34\"], \"mode\": \"lines\", \"name\": \"AUC_macro_max\", \"stepped\": true, \"type\": \"scatter\", \"data\": [0.8550287233045853, 0.875938401455643, 0.8956745415366104, 0.8956745415366104, 0.8956745415366104, 0.8956745415366104, 0.9025998905309249, 0.9025998905309249, 0.9025998905309249, 0.9025998905309249, 0.9025998905309249, 0.9025998905309249, 0.9025998905309249, 0.9025998905309249, 0.9025998905309249, 0.9025998905309249, 0.9025998905309249, 0.9025998905309249, 0.9025998905309249, 0.9025998905309249, 0.9025998905309249, 0.9025998905309249, 0.9063589698072457, 0.9063589698072457, 0.9063589698072457, 0.9063589698072457, 0.9063589698072457, 0.9063589698072457, 0.9063589698072457, 0.9063589698072457, 0.9063589698072457, 0.9063589698072457, 0.9063589698072457, 0.9063589698072457, 0.9063589698072457]}], \"matthews_correlation\": [{\"categories\": [\"0\", \"1\", \"2\", \"3\", \"4\", \"5\", \"6\", \"7\", \"8\", \"9\", \"10\", \"11\", \"12\", \"13\", \"14\", \"15\", \"16\", \"17\", \"18\", \"19\", \"20\", \"21\", \"22\", \"23\", \"24\", \"25\", \"26\", \"27\", \"28\", \"29\", \"30\", \"31\", \"32\", \"33\", \"34\"], \"mode\": \"markers\", \"name\": \"matthews_correlation\", \"stepped\": false, \"type\": \"scatter\", \"data\": [0.5489062305154261, 0.5873460381369527, 0.6217131496106552, 0.5750578177002835, 0.6532202487797558, 0.27236163612296654, 0.612725976897592, 0.5851598423503249, 0.6005280962129412, 0.5713205694880518, 0.6246495027902078, 0.5895291851172336, 0.5385820024732558, 0.6397220997939349, 0.5905436489473764, 0.5472511172490715, 0.6014311899057825, 0.30642445689431236, 0.5972661417232062, 0.5523022819360628, 0.018564058481995185, 0.5596224126461719, 0.6396767039776753, 0.5668741821282975, 0.4826962796425381, 0.2742193496372487, 0.5722480163820132, 0.6295473430559553, 0.5978234992785113, 0.5206978867306472, 0.0, 0.6001958198740506, 0.6125679656138064, 0.6777401947365972, 0.6270035114088132]}, {\"categories\": [\"0\", \"1\", \"2\", \"3\", \"4\", \"5\", \"6\", \"7\", \"8\", \"9\", \"10\", \"11\", \"12\", \"13\", \"14\", \"15\", \"16\", \"17\", \"18\", \"19\", \"20\", \"21\", \"22\", \"23\", \"24\", \"25\", \"26\", \"27\", \"28\", \"29\", \"30\", \"31\", \"32\", \"33\", \"34\"], \"mode\": \"lines\", \"name\": \"matthews_correlation_max\", \"stepped\": true, \"type\": \"scatter\", \"data\": [0.5489062305154261, 0.5873460381369527, 0.6217131496106552, 0.6217131496106552, 0.6532202487797558, 0.6532202487797558, 0.6532202487797558, 0.6532202487797558, 0.6532202487797558, 0.6532202487797558, 0.6532202487797558, 0.6532202487797558, 0.6532202487797558, 0.6532202487797558, 0.6532202487797558, 0.6532202487797558, 0.6532202487797558, 0.6532202487797558, 0.6532202487797558, 0.6532202487797558, 0.6532202487797558, 0.6532202487797558, 0.6532202487797558, 0.6532202487797558, 0.6532202487797558, 0.6532202487797558, 0.6532202487797558, 0.6532202487797558, 0.6532202487797558, 0.6532202487797558, 0.6532202487797558, 0.6532202487797558, 0.6532202487797558, 0.6777401947365972, 0.6777401947365972]}], \"AUC_micro\": [{\"categories\": [\"0\", \"1\", \"2\", \"3\", \"4\", \"5\", \"6\", \"7\", \"8\", \"9\", \"10\", \"11\", \"12\", \"13\", \"14\", \"15\", \"16\", \"17\", \"18\", \"19\", \"20\", \"21\", \"22\", \"23\", \"24\", \"25\", \"26\", \"27\", \"28\", \"29\", \"30\", \"31\", \"32\", \"33\", \"34\"], \"mode\": \"markers\", \"name\": \"AUC_micro\", \"stepped\": false, \"type\": \"scatter\", \"data\": [0.8769284528789579, 0.8907238819168114, 0.9000868244736933, 0.9065820868618849, 0.9054748086929904, 0.7937063837023434, 0.909769730979832, 0.8967981600516954, 0.8865985001530455, 0.8759056048702513, 0.9028260789715334, 0.898113556439819, 0.8621880114274054, 0.8952511172329354, 0.8859333537394143, 0.895468044077135, 0.8884257422711968, 0.8437942726932626, 0.8812138965411692, 0.8965320001360406, 0.6532108900452335, 0.8766237084651226, 0.9043225283134374, 0.9002859742203176, 0.8730122062374587, 0.6143237560793117, 0.8800088188280107, 0.89652996973098, 0.8914245553174845, 0.8758233751657994, 0.7735733020440092, 0.8901301397816549, 0.9033320001360406, 0.9080409652076319, 0.9041462129714656]}, {\"categories\": [\"0\", \"1\", \"2\", \"3\", \"4\", \"5\", \"6\", \"7\", \"8\", \"9\", \"10\", \"11\", \"12\", \"13\", \"14\", \"15\", \"16\", \"17\", \"18\", \"19\", \"20\", \"21\", \"22\", \"23\", \"24\", \"25\", \"26\", \"27\", \"28\", \"29\", \"30\", \"31\", \"32\", \"33\", \"34\"], \"mode\": \"lines\", \"name\": \"AUC_micro_max\", \"stepped\": true, \"type\": \"scatter\", \"data\": [0.8769284528789579, 0.8907238819168114, 0.9000868244736933, 0.9065820868618849, 0.9065820868618849, 0.9065820868618849, 0.909769730979832, 0.909769730979832, 0.909769730979832, 0.909769730979832, 0.909769730979832, 0.909769730979832, 0.909769730979832, 0.909769730979832, 0.909769730979832, 0.909769730979832, 0.909769730979832, 0.909769730979832, 0.909769730979832, 0.909769730979832, 0.909769730979832, 0.909769730979832, 0.909769730979832, 0.909769730979832, 0.909769730979832, 0.909769730979832, 0.909769730979832, 0.909769730979832, 0.909769730979832, 0.909769730979832, 0.909769730979832, 0.909769730979832, 0.909769730979832, 0.909769730979832, 0.909769730979832]}], \"recall_score_weighted\": [{\"categories\": [\"0\", \"1\", \"2\", \"3\", \"4\", \"5\", \"6\", \"7\", \"8\", \"9\", \"10\", \"11\", \"12\", \"13\", \"14\", \"15\", \"16\", \"17\", \"18\", \"19\", \"20\", \"21\", \"22\", \"23\", \"24\", \"25\", \"26\", \"27\", \"28\", \"29\", \"30\", \"31\", \"32\", \"33\", \"34\"], \"mode\": \"markers\", \"name\": \"recall_score_weighted\", \"stepped\": false, \"type\": \"scatter\", \"data\": [0.8025252525252524, 0.8192929292929293, 0.8327609427609427, 0.8126936026936026, 0.8460606060606061, 0.7156565656565657, 0.8293602693602694, 0.8226599326599326, 0.8293939393939395, 0.8159932659932659, 0.8326599326599328, 0.826026936026936, 0.8026599326599326, 0.8461279461279462, 0.8260606060606062, 0.8024915824915825, 0.826026936026936, 0.7257912457912458, 0.8261279461279462, 0.8059259259259259, 0.6053198653198653, 0.8127272727272729, 0.8326936026936026, 0.816026936026936, 0.7924915824915825, 0.5955218855218855, 0.8194276094276094, 0.8394612794612795, 0.8226936026936027, 0.8025925925925925, 0.6790235690235691, 0.826026936026936, 0.8325925925925927, 0.8594949494949495, 0.8326936026936026]}, {\"categories\": [\"0\", \"1\", \"2\", \"3\", \"4\", \"5\", \"6\", \"7\", \"8\", \"9\", \"10\", \"11\", \"12\", \"13\", \"14\", \"15\", \"16\", \"17\", \"18\", \"19\", \"20\", \"21\", \"22\", \"23\", \"24\", \"25\", \"26\", \"27\", \"28\", \"29\", \"30\", \"31\", \"32\", \"33\", \"34\"], \"mode\": \"lines\", \"name\": \"recall_score_weighted_max\", \"stepped\": true, \"type\": \"scatter\", \"data\": [0.8025252525252524, 0.8192929292929293, 0.8327609427609427, 0.8327609427609427, 0.8460606060606061, 0.8460606060606061, 0.8460606060606061, 0.8460606060606061, 0.8460606060606061, 0.8460606060606061, 0.8460606060606061, 0.8460606060606061, 0.8460606060606061, 0.8461279461279462, 0.8461279461279462, 0.8461279461279462, 0.8461279461279462, 0.8461279461279462, 0.8461279461279462, 0.8461279461279462, 0.8461279461279462, 0.8461279461279462, 0.8461279461279462, 0.8461279461279462, 0.8461279461279462, 0.8461279461279462, 0.8461279461279462, 0.8461279461279462, 0.8461279461279462, 0.8461279461279462, 0.8461279461279462, 0.8461279461279462, 0.8461279461279462, 0.8594949494949495, 0.8594949494949495]}]}, \"metricName\": null, \"primaryMetricName\": \"accuracy\", \"showLegend\": false}, \"run_metrics\": [{\"name\": \"recall_score_micro\", \"run_id\": \"AutoML_71e10d2f-fa78-46af-b279-7f3c4f9555f6\", \"categories\": [0], \"series\": [{\"data\": [0.8594949494949495]}]}, {\"name\": \"AUC_weighted\", \"run_id\": \"AutoML_71e10d2f-fa78-46af-b279-7f3c4f9555f6\", \"categories\": [0], \"series\": [{\"data\": [0.9021276941966597]}]}, {\"name\": \"log_loss\", \"run_id\": \"AutoML_71e10d2f-fa78-46af-b279-7f3c4f9555f6\", \"categories\": [0], \"series\": [{\"data\": [0.4119392624071767]}]}, {\"name\": \"matthews_correlation\", \"run_id\": \"AutoML_71e10d2f-fa78-46af-b279-7f3c4f9555f6\", \"categories\": [0], \"series\": [{\"data\": [0.6777401947365972]}]}, {\"name\": \"recall_score_macro\", \"run_id\": \"AutoML_71e10d2f-fa78-46af-b279-7f3c4f9555f6\", \"categories\": [0], \"series\": [{\"data\": [0.8237427082254668]}]}, {\"name\": \"average_precision_score_macro\", \"run_id\": \"AutoML_71e10d2f-fa78-46af-b279-7f3c4f9555f6\", \"categories\": [0], \"series\": [{\"data\": [0.88029451098156]}]}, {\"name\": \"weighted_accuracy\", \"run_id\": \"AutoML_71e10d2f-fa78-46af-b279-7f3c4f9555f6\", \"categories\": [0], \"series\": [{\"data\": [0.8879445597662033]}]}, {\"name\": \"precision_score_macro\", \"run_id\": \"AutoML_71e10d2f-fa78-46af-b279-7f3c4f9555f6\", \"categories\": [0], \"series\": [{\"data\": [0.8563316573879954]}]}, {\"name\": \"precision_score_weighted\", \"run_id\": \"AutoML_71e10d2f-fa78-46af-b279-7f3c4f9555f6\", \"categories\": [0], \"series\": [{\"data\": [0.8653845606662508]}]}, {\"name\": \"average_precision_score_micro\", \"run_id\": \"AutoML_71e10d2f-fa78-46af-b279-7f3c4f9555f6\", \"categories\": [0], \"series\": [{\"data\": [0.9103255391985204]}]}, {\"name\": \"precision_score_micro\", \"run_id\": \"AutoML_71e10d2f-fa78-46af-b279-7f3c4f9555f6\", \"categories\": [0], \"series\": [{\"data\": [0.8594949494949495]}]}, {\"name\": \"AUC_micro\", \"run_id\": \"AutoML_71e10d2f-fa78-46af-b279-7f3c4f9555f6\", \"categories\": [0], \"series\": [{\"data\": [0.9080409652076319]}]}, {\"name\": \"average_precision_score_weighted\", \"run_id\": \"AutoML_71e10d2f-fa78-46af-b279-7f3c4f9555f6\", \"categories\": [0], \"series\": [{\"data\": [0.9065334908270081]}]}, {\"name\": \"balanced_accuracy\", \"run_id\": \"AutoML_71e10d2f-fa78-46af-b279-7f3c4f9555f6\", \"categories\": [0], \"series\": [{\"data\": [0.8237427082254668]}]}, {\"name\": \"f1_score_macro\", \"run_id\": \"AutoML_71e10d2f-fa78-46af-b279-7f3c4f9555f6\", \"categories\": [0], \"series\": [{\"data\": [0.8305328774514722]}]}, {\"name\": \"f1_score_micro\", \"run_id\": \"AutoML_71e10d2f-fa78-46af-b279-7f3c4f9555f6\", \"categories\": [0], \"series\": [{\"data\": [0.8594949494949495]}]}, {\"name\": \"accuracy\", \"run_id\": \"AutoML_71e10d2f-fa78-46af-b279-7f3c4f9555f6\", \"categories\": [0], \"series\": [{\"data\": [0.8594949494949495]}]}, {\"name\": \"f1_score_weighted\", \"run_id\": \"AutoML_71e10d2f-fa78-46af-b279-7f3c4f9555f6\", \"categories\": [0], \"series\": [{\"data\": [0.8545489655285241]}]}, {\"name\": \"AUC_macro\", \"run_id\": \"AutoML_71e10d2f-fa78-46af-b279-7f3c4f9555f6\", \"categories\": [0], \"series\": [{\"data\": [0.9021276941966597]}]}, {\"name\": \"recall_score_weighted\", \"run_id\": \"AutoML_71e10d2f-fa78-46af-b279-7f3c4f9555f6\", \"categories\": [0], \"series\": [{\"data\": [0.8594949494949495]}]}, {\"name\": \"norm_macro_recall\", \"run_id\": \"AutoML_71e10d2f-fa78-46af-b279-7f3c4f9555f6\", \"categories\": [0], \"series\": [{\"data\": [0.6474854164509337]}]}], \"run_logs\": \"\\nRun is completed.\", \"graph\": {}, \"widget_settings\": {\"childWidgetDisplay\": \"popup\", \"send_telemetry\": false, \"log_level\": \"INFO\", \"sdk_version\": \"1.20.0\"}, \"loading\": false}"
          },
          "metadata": {}
        }
      ],
      "execution_count": 19,
      "metadata": {
        "gather": {
          "logged": 1612120453581
        },
        "jupyter": {
          "outputs_hidden": false,
          "source_hidden": false
        },
        "nteract": {
          "transient": {
            "deleting": false
          }
        }
      }
    },
    {
      "cell_type": "markdown",
      "source": [
        "## Best Model\n",
        "\n",
        "TODO: In the cell below, get the best model from the automl experiments and display all the properties of the model.\n",
        "\n"
      ],
      "metadata": {}
    },
    {
      "cell_type": "code",
      "source": [
        "best_run, fitted_model = remote_run.get_output()\r\n",
        "print(best_run)\r\n",
        "print(fitted_model)\r\n",
        "best_run_metrics = best_run.get_metrics()\r\n",
        "for metric_name in best_run_metrics:\r\n",
        "    metric = best_run_metrics[metric_name]\r\n",
        "    print(metric_name, metric)"
      ],
      "outputs": [
        {
          "output_type": "stream",
          "name": "stdout",
          "text": [
            "Run(Experiment: CapstoneProject,\n",
            "Id: AutoML_71e10d2f-fa78-46af-b279-7f3c4f9555f6_33,\n",
            "Type: None,\n",
            "Status: Completed)\n",
            "Pipeline(memory=None,\n",
            "         steps=[('datatransformer',\n",
            "                 DataTransformer(enable_dnn=None, enable_feature_sweeping=None,\n",
            "                                 feature_sweeping_config=None,\n",
            "                                 feature_sweeping_timeout=None,\n",
            "                                 featurization_config=None, force_text_dnn=None,\n",
            "                                 is_cross_validation=None,\n",
            "                                 is_onnx_compatible=None, logger=None,\n",
            "                                 observer=None, task=None, working_dir=None)),\n",
            "                ('prefittedsoftvotingclassifier',...\n",
            "                                                                             KNeighborsClassifier(algorithm='auto',\n",
            "                                                                                                  leaf_size=30,\n",
            "                                                                                                  metric='l1',\n",
            "                                                                                                  metric_params=None,\n",
            "                                                                                                  n_jobs=1,\n",
            "                                                                                                  n_neighbors=8,\n",
            "                                                                                                  p=2,\n",
            "                                                                                                  weights='distance'))],\n",
            "                                                                     verbose=False))],\n",
            "                                               flatten_transform=None,\n",
            "                                               weights=[0.1111111111111111,\n",
            "                                                        0.1111111111111111,\n",
            "                                                        0.1111111111111111,\n",
            "                                                        0.1111111111111111,\n",
            "                                                        0.1111111111111111,\n",
            "                                                        0.1111111111111111,\n",
            "                                                        0.1111111111111111,\n",
            "                                                        0.1111111111111111,\n",
            "                                                        0.1111111111111111]))],\n",
            "         verbose=False)\n",
            "norm_macro_recall 0.6474854164509337\n",
            "AUC_weighted 0.9021276941966597\n",
            "recall_score_micro 0.8594949494949495\n",
            "log_loss 0.4119392624071767\n",
            "f1_score_micro 0.8594949494949495\n",
            "balanced_accuracy 0.8237427082254668\n",
            "f1_score_macro 0.8305328774514722\n",
            "precision_score_micro 0.8594949494949495\n",
            "f1_score_weighted 0.8545489655285241\n",
            "recall_score_macro 0.8237427082254668\n",
            "average_precision_score_weighted 0.9065334908270081\n",
            "accuracy 0.8594949494949495\n",
            "precision_score_weighted 0.8653845606662508\n",
            "average_precision_score_micro 0.9103255391985204\n",
            "precision_score_macro 0.8563316573879954\n",
            "average_precision_score_macro 0.88029451098156\n",
            "weighted_accuracy 0.8879445597662033\n",
            "AUC_macro 0.9021276941966597\n",
            "matthews_correlation 0.6777401947365972\n",
            "AUC_micro 0.9080409652076319\n",
            "recall_score_weighted 0.8594949494949495\n",
            "accuracy_table aml://artifactId/ExperimentRun/dcid.AutoML_71e10d2f-fa78-46af-b279-7f3c4f9555f6_33/accuracy_table\n",
            "confusion_matrix aml://artifactId/ExperimentRun/dcid.AutoML_71e10d2f-fa78-46af-b279-7f3c4f9555f6_33/confusion_matrix\n"
          ]
        }
      ],
      "execution_count": 20,
      "metadata": {
        "gather": {
          "logged": 1612120593032
        },
        "jupyter": {
          "outputs_hidden": false,
          "source_hidden": false
        },
        "nteract": {
          "transient": {
            "deleting": false
          }
        }
      }
    },
    {
      "cell_type": "code",
      "source": [
        "#TODO: Save the best model\r\n",
        "best_run.download_file('/outputs/model.pkl', 'automl_best_model.pkl')"
      ],
      "outputs": [],
      "execution_count": 21,
      "metadata": {
        "gather": {
          "logged": 1612120621474
        },
        "jupyter": {
          "outputs_hidden": false,
          "source_hidden": false
        },
        "nteract": {
          "transient": {
            "deleting": false
          }
        }
      }
    },
    {
      "cell_type": "markdown",
      "source": [
        "## Model Deployment\n",
        "\n",
        "Remember you have to deploy only one of the two models you trained.. Perform the steps in the rest of this notebook only if you wish to deploy this model.\n",
        "\n",
        "TODO: In the cell below, register the model, create an inference config and deploy the model as a web service."
      ],
      "metadata": {}
    },
    {
      "cell_type": "code",
      "source": [
        "from azureml.core.model import Model\r\n",
        "\r\n",
        "model = Model.register(ws, model_path='./automl_best_model.pkl', model_name='heart_disease')"
      ],
      "outputs": [
        {
          "output_type": "stream",
          "name": "stdout",
          "text": [
            "Registering model heart_disease\n"
          ]
        }
      ],
      "execution_count": 4,
      "metadata": {
        "gather": {
          "logged": 1612125140123
        },
        "jupyter": {
          "outputs_hidden": false,
          "source_hidden": false
        },
        "nteract": {
          "transient": {
            "deleting": false
          }
        }
      }
    },
    {
      "cell_type": "code",
      "source": [
        "from azureml.core.model import InferenceConfig\r\n",
        "from azureml.core.environment import Environment\r\n",
        "from azureml.core.conda_dependencies import CondaDependencies\r\n",
        "from azureml.core.webservice import LocalWebservice, AciWebservice\r\n",
        "\r\n",
        "myenv = Environment.get(ws, name='AzureML-AutoML')\r\n",
        "# myenv = Environment.from_pip_requirements(name = \"myenv\",\r\n",
        "#                                           file_path = \"requirements.txt\")     \r\n",
        "\r\n",
        "inference_config = InferenceConfig(entry_script=\"score.py\",\r\n",
        "                                   environment=myenv)\r\n",
        "# deployment_config = LocalWebservice.deploy_configuration(port=8000)\r\n",
        "aci_config = AciWebservice.deploy_configuration(cpu_cores=1, memory_gb=1, enable_app_insights=True, auth_enabled=True)\r\n",
        "\r\n",
        "\r\n",
        "service = Model.deploy(ws, name='heartservicehealth', models=[model],inference_config=inference_config, deployment_config=aci_config, overwrite=True)\r\n",
        "service.wait_for_deployment(show_output=True)"
      ],
      "outputs": [
        {
          "output_type": "stream",
          "name": "stdout",
          "text": [
            "Tips: You can try get_logs(): https://aka.ms/debugimage#dockerlog or local deployment: https://aka.ms/debugimage#debug-locally to debug if deployment takes longer than 10 minutes.\n",
            "Running....\n",
            "Succeeded\n",
            "ACI service creation operation finished, operation \"Succeeded\"\n"
          ]
        }
      ],
      "execution_count": 20,
      "metadata": {
        "collapsed": true,
        "jupyter": {
          "source_hidden": false,
          "outputs_hidden": false
        },
        "nteract": {
          "transient": {
            "deleting": false
          }
        },
        "gather": {
          "logged": 1612127106811
        }
      }
    },
    {
      "cell_type": "markdown",
      "source": [
        "TODO: In the cell below, send a request to the web service you deployed to test it."
      ],
      "metadata": {
        "collapsed": true,
        "gather": {
          "logged": 1598431657736
        },
        "jupyter": {
          "outputs_hidden": false,
          "source_hidden": false
        },
        "nteract": {
          "transient": {
            "deleting": false
          }
        }
      }
    },
    {
      "cell_type": "code",
      "source": [
        "primary_key, secondry_key = service.get_keys()"
      ],
      "outputs": [],
      "execution_count": 33,
      "metadata": {
        "collapsed": true,
        "jupyter": {
          "source_hidden": false,
          "outputs_hidden": false
        },
        "nteract": {
          "transient": {
            "deleting": false
          }
        },
        "gather": {
          "logged": 1612127819778
        }
      }
    },
    {
      "cell_type": "code",
      "source": [
        "import requests\r\n",
        "import json\r\n",
        "\r\n",
        "uri = service.scoring_uri\r\n",
        "data = {\"data\": [{\"age\":60.000000,\"anaemia\":0.000000,\"creatinine_phosphokinase\":250.000000,\"diabetes\":0.000000,\"ejection_fraction\":38.000000,\"high_blood_pressure\":0.000000,\"platelets\":262000.000000,\"serum_creatinine\":1.10000,\"serum_sodium\":137.000000,\"sex\":1.000000,\"smoking\":0.00000,\"time\":115.000000}]}\r\n",
        "\r\n",
        "headers = {'Content-Type': 'application/json'}\r\n",
        "headers['Authorization'] = f'Bearer {primary_key}'\r\n",
        "\r\n",
        "payload = json.dumps(data)\r\n",
        "respone = requests.post(uri, payload, headers=headers)\r\n",
        "print(respone.text)"
      ],
      "outputs": [
        {
          "output_type": "stream",
          "name": "stdout",
          "text": [
            "{}\n",
            "{}\n"
          ]
        }
      ],
      "execution_count": 44,
      "metadata": {
        "gather": {
          "logged": 1612129014295
        },
        "jupyter": {
          "outputs_hidden": false,
          "source_hidden": false
        },
        "nteract": {
          "transient": {
            "deleting": false
          }
        }
      }
    },
    {
      "cell_type": "markdown",
      "source": [
        "TODO: In the cell below, print the logs of the web service and delete the service"
      ],
      "metadata": {
        "collapsed": true,
        "gather": {
          "logged": 1598432765711
        },
        "jupyter": {
          "outputs_hidden": false,
          "source_hidden": false
        },
        "nteract": {
          "transient": {
            "deleting": false
          }
        }
      }
    },
    {
      "cell_type": "code",
      "source": [
        "dep_logs = service.get_logs()\r\n",
        "for l in dep_logs.split('\\n'):\r\n",
        "    print(l)"
      ],
      "outputs": [
        {
          "output_type": "stream",
          "name": "stdout",
          "text": [
            "2021-01-31T21:16:42,120650614+00:00 - iot-server/run \n",
            "2021-01-31T21:16:42,121260159+00:00 - gunicorn/run \n",
            "2021-01-31T21:16:42,125232651+00:00 - nginx/run \n",
            "/usr/sbin/nginx: /azureml-envs/azureml_7ade26eb614f97df8030bc480da59236/lib/libcrypto.so.1.0.0: no version information available (required by /usr/sbin/nginx)\n",
            "/usr/sbin/nginx: /azureml-envs/azureml_7ade26eb614f97df8030bc480da59236/lib/libcrypto.so.1.0.0: no version information available (required by /usr/sbin/nginx)\n",
            "/usr/sbin/nginx: /azureml-envs/azureml_7ade26eb614f97df8030bc480da59236/lib/libssl.so.1.0.0: no version information available (required by /usr/sbin/nginx)\n",
            "/usr/sbin/nginx: /azureml-envs/azureml_7ade26eb614f97df8030bc480da59236/lib/libssl.so.1.0.0: no version information available (required by /usr/sbin/nginx)\n",
            "/usr/sbin/nginx: /azureml-envs/azureml_7ade26eb614f97df8030bc480da59236/lib/libssl.so.1.0.0: no version information available (required by /usr/sbin/nginx)\n",
            "2021-01-31T21:16:42,128191368+00:00 - rsyslog/run \n",
            "rsyslogd: /azureml-envs/azureml_7ade26eb614f97df8030bc480da59236/lib/libuuid.so.1: no version information available (required by rsyslogd)\n",
            "EdgeHubConnectionString and IOTEDGE_IOTHUBHOSTNAME are not set. Exiting...\n",
            "2021-01-31T21:16:42,337083121+00:00 - iot-server/finish 1 0\n",
            "2021-01-31T21:16:42,338344814+00:00 - Exit code 1 is normal. Not restarting iot-server.\n",
            "Starting gunicorn 19.9.0\n",
            "Listening at: http://127.0.0.1:31311 (14)\n",
            "Using worker: sync\n",
            "worker timeout is set to 300\n",
            "Booting worker with pid: 42\n",
            "SPARK_HOME not set. Skipping PySpark Initialization.\n",
            "Initializing logger\n",
            "2021-01-31 21:16:42,845 | root | INFO | Starting up app insights client\n",
            "2021-01-31 21:16:42,846 | root | INFO | Starting up request id generator\n",
            "2021-01-31 21:16:42,846 | root | INFO | Starting up app insight hooks\n",
            "2021-01-31 21:16:42,846 | root | INFO | Invoking user's init function\n",
            "Generating new fontManager, this may take some time...\n",
            "2021-01-31 21:16:45,830 | root | INFO | Users's init has completed successfully\n",
            "2021-01-31 21:16:45,835 | root | INFO | Skipping middleware: dbg_model_info as it's not enabled.\n",
            "2021-01-31 21:16:45,835 | root | INFO | Skipping middleware: dbg_resource_usage as it's not enabled.\n",
            "2021-01-31 21:16:45,837 | root | INFO | Scoring timeout is found from os.environ: 60000 ms\n",
            "2021-01-31 21:16:48,521 | root | INFO | Swagger file not present\n",
            "2021-01-31 21:16:48,521 | root | INFO | 404\n",
            "127.0.0.1 - - [31/Jan/2021:21:16:48 +0000] \"GET /swagger.json HTTP/1.0\" 404 19 \"-\" \"Go-http-client/1.1\"\n",
            "2021-01-31 21:20:23,142 | root | INFO | Validation Request Content-Type\n",
            "2021-01-31 21:20:23,143 | root | INFO | Scoring Timer is set to 60.0 seconds\n",
            "2021-01-31 21:20:23,144 | root | INFO | 200\n",
            "127.0.0.1 - - [31/Jan/2021:21:20:23 +0000] \"POST /score HTTP/1.0\" 200 2 \"-\" \"python-requests/2.25.1\"\n",
            "2021-01-31 21:20:30,892 | root | INFO | Validation Request Content-Type\n",
            "2021-01-31 21:20:30,893 | root | INFO | Scoring Timer is set to 60.0 seconds\n",
            "2021-01-31 21:20:30,893 | root | INFO | 200\n",
            "127.0.0.1 - - [31/Jan/2021:21:20:30 +0000] \"POST /score HTTP/1.0\" 200 2 \"-\" \"python-requests/2.25.1\"\n",
            "2021-01-31 21:21:41,706 | root | INFO | Validation Request Content-Type\n",
            "2021-01-31 21:21:41,706 | root | INFO | Scoring Timer is set to 60.0 seconds\n",
            "2021-01-31 21:21:41,706 | root | INFO | 200\n",
            "127.0.0.1 - - [31/Jan/2021:21:21:41 +0000] \"POST /score HTTP/1.0\" 200 2 \"-\" \"python-requests/2.25.1\"\n",
            "2021-01-31 21:22:37,248 | root | INFO | Validation Request Content-Type\n",
            "2021-01-31 21:22:37,249 | root | INFO | Scoring Timer is set to 60.0 seconds\n",
            "2021-01-31 21:22:37,249 | root | INFO | 200\n",
            "127.0.0.1 - - [31/Jan/2021:21:22:37 +0000] \"POST /score HTTP/1.0\" 200 2 \"-\" \"python-requests/2.25.1\"\n",
            "2021-01-31 21:27:31,590 | root | INFO | Validation Request Content-Type\n",
            "2021-01-31 21:27:31,591 | root | INFO | Scoring Timer is set to 60.0 seconds\n",
            "2021-01-31 21:27:31,592 | root | INFO | 200\n",
            "127.0.0.1 - - [31/Jan/2021:21:27:31 +0000] \"POST /score HTTP/1.0\" 200 2 \"-\" \"python-requests/2.25.1\"\n",
            "2021-01-31 21:29:14,049 | root | INFO | Validation Request Content-Type\n",
            "2021-01-31 21:29:14,050 | root | INFO | Scoring Timer is set to 60.0 seconds\n",
            "2021-01-31 21:29:14,050 | root | INFO | 200\n",
            "127.0.0.1 - - [31/Jan/2021:21:29:14 +0000] \"POST /score HTTP/1.0\" 200 2 \"-\" \"python-requests/2.25.1\"\n",
            "2021-01-31 21:31:32,378 | root | INFO | Swagger file not present\n",
            "2021-01-31 21:31:32,379 | root | INFO | 404\n",
            "127.0.0.1 - - [31/Jan/2021:21:31:32 +0000] \"GET /swagger.json HTTP/1.0\" 404 19 \"-\" \"Go-http-client/1.1\"\n",
            "2021-01-31 21:33:53,545 | root | INFO | Validation Request Content-Type\n",
            "2021-01-31 21:33:53,546 | root | INFO | Scoring Timer is set to 60.0 seconds\n",
            "2021-01-31 21:33:53,546 | root | INFO | 200\n",
            "127.0.0.1 - - [31/Jan/2021:21:33:53 +0000] \"POST /score HTTP/1.0\" 200 2 \"-\" \"python-requests/2.25.1\"\n",
            "2021-01-31 21:33:53,556 | root | INFO | Validation Request Content-Type\n",
            "2021-01-31 21:33:53,556 | root | INFO | Scoring Timer is set to 60.0 seconds\n",
            "2021-01-31 21:33:53,557 | root | INFO | 200\n",
            "127.0.0.1 - - [31/Jan/2021:21:33:53 +0000] \"POST /score HTTP/1.0\" 200 2 \"-\" \"python-requests/2.25.1\"\n",
            "2021-01-31 21:36:54,090 | root | INFO | Validation Request Content-Type\n",
            "2021-01-31 21:36:54,090 | root | INFO | Scoring Timer is set to 60.0 seconds\n",
            "2021-01-31 21:36:54,091 | root | INFO | 200\n",
            "127.0.0.1 - - [31/Jan/2021:21:36:54 +0000] \"POST /score HTTP/1.0\" 200 2 \"-\" \"python-requests/2.25.1\"\n",
            "2021-01-31 21:36:54,123 | root | INFO | Validation Request Content-Type\n",
            "2021-01-31 21:36:54,124 | root | INFO | Scoring Timer is set to 60.0 seconds\n",
            "2021-01-31 21:36:54,124 | root | INFO | 200\n",
            "127.0.0.1 - - [31/Jan/2021:21:36:54 +0000] \"POST /score HTTP/1.0\" 200 2 \"-\" \"python-requests/2.25.1\"\n",
            "\n"
          ]
        }
      ],
      "execution_count": 46,
      "metadata": {
        "jupyter": {
          "outputs_hidden": false,
          "source_hidden": false
        },
        "nteract": {
          "transient": {
            "deleting": false
          }
        },
        "gather": {
          "logged": 1612129135242
        }
      }
    },
    {
      "cell_type": "code",
      "source": [
        "service.delete()"
      ],
      "outputs": [],
      "execution_count": 47,
      "metadata": {
        "collapsed": true,
        "jupyter": {
          "source_hidden": false,
          "outputs_hidden": false
        },
        "nteract": {
          "transient": {
            "deleting": false
          }
        },
        "gather": {
          "logged": 1612129211060
        }
      }
    },
    {
      "cell_type": "code",
      "source": [],
      "outputs": [],
      "execution_count": null,
      "metadata": {
        "collapsed": true,
        "jupyter": {
          "source_hidden": false,
          "outputs_hidden": false
        },
        "nteract": {
          "transient": {
            "deleting": false
          }
        }
      }
    }
  ],
  "metadata": {
    "kernel_info": {
      "name": "python3"
    },
    "kernelspec": {
      "name": "python3",
      "language": "python",
      "display_name": "Python 3"
    },
    "language_info": {
      "name": "python",
      "version": "3.6.9",
      "mimetype": "text/x-python",
      "codemirror_mode": {
        "name": "ipython",
        "version": 3
      },
      "pygments_lexer": "ipython3",
      "nbconvert_exporter": "python",
      "file_extension": ".py"
    },
    "nteract": {
      "version": "nteract-front-end@1.0.0"
    }
  },
  "nbformat": 4,
  "nbformat_minor": 2
}